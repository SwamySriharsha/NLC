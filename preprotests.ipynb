{
 "cells": [
  {
   "cell_type": "markdown",
   "metadata": {},
   "source": [
    "<h3>I have taken a sample text review on which I am going to apply preprocessing techniques.</h3>"
   ]
  },
  {
   "cell_type": "code",
   "execution_count": 1,
   "metadata": {
    "colab": {},
    "colab_type": "code",
    "id": "UR7qou3NPMa5"
   },
   "outputs": [],
   "source": [
    "review = '''I have been buying in Amazon for 5 years. They changed everything. They are charging <b>taxes</b> now. Sometimes I had to return an </br> item and you have to keep calling and chatting for the refund. Sometimes they show an improved item and they send you the old one. Sometimes, you can’t you cancel some items, don’t know why. Sometimes you receive your item and you can't write a review about it (doesn’t let you). Sometimes you want to chat and the person doesn’t speak English (it takes minutes to answer). HORRIBLE.\n",
    "\n",
    "'''"
   ]
  },
  {
   "cell_type": "markdown",
   "metadata": {},
   "source": [
    "<h4>STEP: 1 Remove html tags</h4>"
   ]
  },
  {
   "cell_type": "code",
   "execution_count": 2,
   "metadata": {
    "colab": {
     "base_uri": "https://localhost:8080/",
     "height": 156
    },
    "colab_type": "code",
    "executionInfo": {
     "elapsed": 986,
     "status": "ok",
     "timestamp": 1535538463168,
     "user": {
      "displayName": "Swamy Sriharsha",
      "photoUrl": "//lh4.googleusercontent.com/-9Fgow919ry4/AAAAAAAAAAI/AAAAAAAADrY/V0mtUrANlBQ/s50-c-k-no/photo.jpg",
      "userId": "101573941070641181625"
     },
     "user_tz": -330
    },
    "id": "31sEzBK_P_3J",
    "outputId": "6742dd8f-7911-43de-b818-a658820aa4d3"
   },
   "outputs": [
    {
     "name": "stdout",
     "output_type": "stream",
     "text": [
      "I have been buying in Amazon for 5 years. They changed everything. They are charging <b>taxes</b> now. Sometimes I had to return an </br> item and you have to keep calling and chatting for the refund. Sometimes they show an improved item and they send you the old one. Sometimes, you can’t you cancel some items, don’t know why. Sometimes you receive your item and you can't write a review about it (doesn’t let you). Sometimes you want to chat and the person doesn’t speak English (it takes minutes to answer). HORRIBLE.\n",
      "\n",
      "\n",
      "['<b>', '</b>', '</br>']\n",
      "I have been buying in Amazon for 5 years. They changed everything. They are charging  taxes  now. Sometimes I had to return an   item and you have to keep calling and chatting for the refund. Sometimes they show an improved item and they send you the old one. Sometimes, you can’t you cancel some items, don’t know why. Sometimes you receive your item and you can't write a review about it (doesn’t let you). Sometimes you want to chat and the person doesn’t speak English (it takes minutes to answer). HORRIBLE.\n",
      "\n",
      "\n"
     ]
    }
   ],
   "source": [
    "# STEP:1 remove html tags\n",
    "\n",
    "import re\n",
    "\n",
    "print(review)\n",
    "\n",
    "print(re.findall('<.*?>',review)) #prints available html tags in our review #check difference between <.*?> and <.*>\n",
    "\n",
    "def cleanhtml(sentence): #function to clean the word of any html-tags\n",
    "    cleanr = re.compile('<.*?>')\n",
    "    cleantext = re.sub(cleanr, ' ', sentence)\n",
    "    return cleantext\n",
    "    \n",
    "reviewh = cleanhtml(review) \n",
    "print(reviewh) #review after removing html tags\n",
    "  \n",
    "  "
   ]
  },
  {
   "cell_type": "markdown",
   "metadata": {},
   "source": [
    "<h4>STEP: 2 Remove punctuations</h4>"
   ]
  },
  {
   "cell_type": "code",
   "execution_count": 3,
   "metadata": {
    "colab": {
     "base_uri": "https://localhost:8080/",
     "height": 88
    },
    "colab_type": "code",
    "executionInfo": {
     "elapsed": 1010,
     "status": "ok",
     "timestamp": 1535538617628,
     "user": {
      "displayName": "Swamy Sriharsha",
      "photoUrl": "//lh4.googleusercontent.com/-9Fgow919ry4/AAAAAAAAAAI/AAAAAAAADrY/V0mtUrANlBQ/s50-c-k-no/photo.jpg",
      "userId": "101573941070641181625"
     },
     "user_tz": -330
    },
    "id": "QB_3NLIWRNUk",
    "outputId": "21809eb7-7ceb-4dde-b603-85180f3dc066"
   },
   "outputs": [
    {
     "name": "stdout",
     "output_type": "stream",
     "text": [
      "I have been buying in Amazon for 5 years  They changed everything  They are charging  taxes  now  Sometimes I had to return an   item and you have to keep calling and chatting for the refund  Sometimes they show an improved item and they send you the old one  Sometimes  you cant you cancel some items  dont know why  Sometimes you receive your item and you cant write a review about it  doesnt let you   Sometimes you want to chat and the person doesnt speak English  it takes minutes to answer   HORRIBLE \n",
      "\n",
      "\n"
     ]
    }
   ],
   "source": [
    "# STEP:2 remove punctuations\n",
    "\n",
    "def cleanpunc(sentence): #function to clean the word of any punctuation or special characters\n",
    "    cleaned = re.sub(r'[?|!|\\'|\\’|\"|#]',r'',sentence)\n",
    "    cleaned = re.sub(r'[.|,|)|(|\\|/]',r' ',cleaned)\n",
    "    return  cleaned\n",
    "\n",
    "reviewhp = cleanpunc(reviewh) #passing the obtained review from the above step into cleanpunc function\n",
    "print(reviewhp) #review after removing punctuations and special symbols"
   ]
  },
  {
   "cell_type": "markdown",
   "metadata": {},
   "source": [
    "<h4>STEP: 3 removing alphanumerics and words whose length is less than </h4>"
   ]
  },
  {
   "cell_type": "code",
   "execution_count": 4,
   "metadata": {
    "colab": {
     "base_uri": "https://localhost:8080/",
     "height": 54
    },
    "colab_type": "code",
    "executionInfo": {
     "elapsed": 1255,
     "status": "ok",
     "timestamp": 1535538653977,
     "user": {
      "displayName": "Swamy Sriharsha",
      "photoUrl": "//lh4.googleusercontent.com/-9Fgow919ry4/AAAAAAAAAAI/AAAAAAAADrY/V0mtUrANlBQ/s50-c-k-no/photo.jpg",
      "userId": "101573941070641181625"
     },
     "user_tz": -330
    },
    "id": "0bHGpFnMR5Ha",
    "outputId": "6fdc5d7d-14b6-4f25-f041-59df5573be48"
   },
   "outputs": [
    {
     "name": "stdout",
     "output_type": "stream",
     "text": [
      "have been buying Amazon for years They changed everything They are charging taxes now Sometimes had return item and you have keep calling and chatting for the refund Sometimes they show improved item and they send you the old one Sometimes you cant you cancel some items dont know why Sometimes you receive your item and you cant write review about doesnt let you Sometimes you want chat and the person doesnt speak English takes minutes answer HORRIBLE\n"
     ]
    }
   ],
   "source": [
    "# STEP:3 removing alphanumerics and words whose length is less than 2\n",
    "\n",
    "reviewlist = []\n",
    "for word in reviewhp.split():\n",
    " if word.isalpha() and len(word)>2:\n",
    "    reviewlist.append(word)\n",
    "    \n",
    "rlstr = ' '.join(reviewlist)\n",
    "print(rlstr) #review after removing alphanumerics and words whose length is less than 2\n",
    "    \n",
    "    "
   ]
  },
  {
   "cell_type": "markdown",
   "metadata": {},
   "source": [
    "<h4>STEP: 4 Coverting everything to lower case</h4>"
   ]
  },
  {
   "cell_type": "code",
   "execution_count": 5,
   "metadata": {
    "colab": {
     "base_uri": "https://localhost:8080/",
     "height": 54
    },
    "colab_type": "code",
    "executionInfo": {
     "elapsed": 1001,
     "status": "ok",
     "timestamp": 1535538657940,
     "user": {
      "displayName": "Swamy Sriharsha",
      "photoUrl": "//lh4.googleusercontent.com/-9Fgow919ry4/AAAAAAAAAAI/AAAAAAAADrY/V0mtUrANlBQ/s50-c-k-no/photo.jpg",
      "userId": "101573941070641181625"
     },
     "user_tz": -330
    },
    "id": "SUJNUQjJVfKP",
    "outputId": "d06ec7fb-6439-41a1-c217-bd7b8e2be1d6"
   },
   "outputs": [
    {
     "name": "stdout",
     "output_type": "stream",
     "text": [
      "have been buying amazon for years they changed everything they are charging taxes now sometimes had return item and you have keep calling and chatting for the refund sometimes they show improved item and they send you the old one sometimes you cant you cancel some items dont know why sometimes you receive your item and you cant write review about doesnt let you sometimes you want chat and the person doesnt speak english takes minutes answer horrible\n"
     ]
    }
   ],
   "source": [
    "# STEP:4 coverting everything to lower case\n",
    "\n",
    "rlstrlow = rlstr.lower()\n",
    "print(rlstrlow)"
   ]
  },
  {
   "cell_type": "markdown",
   "metadata": {},
   "source": [
    "<h4>STEP: 5 Removing stop words</4>"
   ]
  },
  {
   "cell_type": "code",
   "execution_count": 6,
   "metadata": {
    "colab": {
     "base_uri": "https://localhost:8080/",
     "height": 68
    },
    "colab_type": "code",
    "executionInfo": {
     "elapsed": 1338,
     "status": "ok",
     "timestamp": 1535538662267,
     "user": {
      "displayName": "Swamy Sriharsha",
      "photoUrl": "//lh4.googleusercontent.com/-9Fgow919ry4/AAAAAAAAAAI/AAAAAAAADrY/V0mtUrANlBQ/s50-c-k-no/photo.jpg",
      "userId": "101573941070641181625"
     },
     "user_tz": -330
    },
    "id": "ky0H7x3iX2zd",
    "outputId": "ee18b38d-8425-4f12-d3b4-48bb65875277"
   },
   "outputs": [
    {
     "name": "stdout",
     "output_type": "stream",
     "text": [
      "[nltk_data] Downloading package stopwords to /home/swamy/nltk_data...\n",
      "[nltk_data]   Package stopwords is already up-to-date!\n"
     ]
    },
    {
     "data": {
      "text/plain": [
       "True"
      ]
     },
     "execution_count": 6,
     "metadata": {},
     "output_type": "execute_result"
    }
   ],
   "source": [
    "# STEP:5 removing stop words\n",
    "\n",
    "import nltk\n",
    "nltk.download('stopwords')\n"
   ]
  },
  {
   "cell_type": "code",
   "execution_count": 7,
   "metadata": {
    "colab": {
     "base_uri": "https://localhost:8080/",
     "height": 71
    },
    "colab_type": "code",
    "executionInfo": {
     "elapsed": 1006,
     "status": "ok",
     "timestamp": 1535538815776,
     "user": {
      "displayName": "Swamy Sriharsha",
      "photoUrl": "//lh4.googleusercontent.com/-9Fgow919ry4/AAAAAAAAAAI/AAAAAAAADrY/V0mtUrANlBQ/s50-c-k-no/photo.jpg",
      "userId": "101573941070641181625"
     },
     "user_tz": -330
    },
    "id": "eualqxyNYjcV",
    "outputId": "da8e5cf8-ab22-4dc3-c080-ad876b491a50"
   },
   "outputs": [
    {
     "name": "stdout",
     "output_type": "stream",
     "text": [
      "['i', 'me', 'my', 'myself', 'we', 'our', 'ours', 'ourselves', 'you', \"you're\", \"you've\", \"you'll\", \"you'd\", 'your', 'yours', 'yourself', 'yourselves', 'he', 'him', 'his', 'himself', 'she', \"she's\", 'her', 'hers', 'herself', 'it', \"it's\", 'its', 'itself', 'they', 'them', 'their', 'theirs', 'themselves', 'what', 'which', 'who', 'whom', 'this', 'that', \"that'll\", 'these', 'those', 'am', 'is', 'are', 'was', 'were', 'be', 'been', 'being', 'have', 'has', 'had', 'having', 'do', 'does', 'did', 'doing', 'a', 'an', 'the', 'and', 'but', 'if', 'or', 'because', 'as', 'until', 'while', 'of', 'at', 'by', 'for', 'with', 'about', 'against', 'between', 'into', 'through', 'during', 'before', 'after', 'above', 'below', 'to', 'from', 'up', 'down', 'in', 'out', 'on', 'off', 'over', 'under', 'again', 'further', 'then', 'once', 'here', 'there', 'when', 'where', 'why', 'how', 'all', 'any', 'both', 'each', 'few', 'more', 'most', 'other', 'some', 'such', 'no', 'nor', 'not', 'only', 'own', 'same', 'so', 'than', 'too', 'very', 's', 't', 'can', 'will', 'just', 'don', \"don't\", 'should', \"should've\", 'now', 'd', 'll', 'm', 'o', 're', 've', 'y', 'ain', 'aren', \"aren't\", 'couldn', \"couldn't\", 'didn', \"didn't\", 'doesn', \"doesn't\", 'hadn', \"hadn't\", 'hasn', \"hasn't\", 'haven', \"haven't\", 'isn', \"isn't\", 'ma', 'mightn', \"mightn't\", 'mustn', \"mustn't\", 'needn', \"needn't\", 'shan', \"shan't\", 'shouldn', \"shouldn't\", 'wasn', \"wasn't\", 'weren', \"weren't\", 'won', \"won't\", 'wouldn', \"wouldn't\"]\n",
      "buying amazon years changed everything charging taxes sometimes return item keep calling chatting refund sometimes show improved item send old one sometimes cant cancel items dont know sometimes receive item cant write review doesnt let sometimes want chat person doesnt speak english takes minutes answer horrible\n"
     ]
    }
   ],
   "source": [
    "from nltk.corpus import stopwords\n",
    "\n",
    "stop = stopwords.words('english') #list of stopwords\n",
    "print(stop)\n",
    "\n",
    "finalrev = []\n",
    "for word in rlstrlow.split():\n",
    "  if word not in stop:\n",
    "    finalrev.append(word)\n",
    "finalreview = \" \".join(finalrev)\n",
    "print(finalreview)"
   ]
  },
  {
   "cell_type": "markdown",
   "metadata": {},
   "source": [
    "<h4>STEP: 6 Stemming</h4>"
   ]
  },
  {
   "cell_type": "code",
   "execution_count": 8,
   "metadata": {
    "colab": {
     "base_uri": "https://localhost:8080/",
     "height": 71
    },
    "colab_type": "code",
    "executionInfo": {
     "elapsed": 1313,
     "status": "ok",
     "timestamp": 1535538887264,
     "user": {
      "displayName": "Swamy Sriharsha",
      "photoUrl": "//lh4.googleusercontent.com/-9Fgow919ry4/AAAAAAAAAAI/AAAAAAAADrY/V0mtUrANlBQ/s50-c-k-no/photo.jpg",
      "userId": "101573941070641181625"
     },
     "user_tz": -330
    },
    "id": "b08E4OdwZLI0",
    "outputId": "5d7810c6-201b-4629-e3c9-980d4fb3c021"
   },
   "outputs": [
    {
     "name": "stdout",
     "output_type": "stream",
     "text": [
      "['buy', 'amazon', 'year', 'chang', 'everyth', 'charg', 'tax', 'sometim', 'return', 'item', 'keep', 'call', 'chat', 'refund', 'sometim', 'show', 'improv', 'item', 'send', 'old', 'one', 'sometim', 'cant', 'cancel', 'item', 'dont', 'know', 'sometim', 'receiv', 'item', 'cant', 'write', 'review', 'doesnt', 'let', 'sometim', 'want', 'chat', 'person', 'doesnt', 'speak', 'english', 'take', 'minut', 'answer', 'horribl']\n",
      "['buy', 'amazon', 'year', 'chang', 'everyth', 'charg', 'tax', 'sometim', 'return', 'item', 'keep', 'call', 'chat', 'refund', 'sometim', 'show', 'improv', 'item', 'send', 'old', 'one', 'sometim', 'cant', 'cancel', 'item', 'dont', 'know', 'sometim', 'receiv', 'item', 'cant', 'write', 'review', 'doesnt', 'let', 'sometim', 'want', 'chat', 'person', 'doesnt', 'speak', 'english', 'take', 'minut', 'answer', 'horribl']\n"
     ]
    }
   ],
   "source": [
    "# STEP:6 stemming\n",
    "\n",
    "from nltk.stem import PorterStemmer,SnowballStemmer\n",
    "\n",
    "porter = PorterStemmer()\n",
    "snowball = SnowballStemmer('english')\n",
    "\n",
    "porterlist = [porter.stem(word) for word in finalreview.split()]\n",
    "print(porterlist)\n",
    "\n",
    "snowballlist = [snowball.stem(word) for word in finalreview.split()]\n",
    "print(snowballlist)"
   ]
  },
  {
   "cell_type": "code",
   "execution_count": 9,
   "metadata": {
    "colab": {
     "base_uri": "https://localhost:8080/",
     "height": 54
    },
    "colab_type": "code",
    "executionInfo": {
     "elapsed": 1048,
     "status": "ok",
     "timestamp": 1535538890444,
     "user": {
      "displayName": "Swamy Sriharsha",
      "photoUrl": "//lh4.googleusercontent.com/-9Fgow919ry4/AAAAAAAAAAI/AAAAAAAADrY/V0mtUrANlBQ/s50-c-k-no/photo.jpg",
      "userId": "101573941070641181625"
     },
     "user_tz": -330
    },
    "id": "kTvh2enUarQS",
    "outputId": "d3f762f3-2786-4b0c-c24e-091addaca169"
   },
   "outputs": [
    {
     "name": "stdout",
     "output_type": "stream",
     "text": [
      "buy amazon year chang everyth charg tax sometim return item keep call chat refund sometim show improv item send old one sometim cant cancel item dont know sometim receiv item cant write review doesnt let sometim want chat person doesnt speak english take minut answer horribl\n"
     ]
    }
   ],
   "source": [
    "finalrevlist = []\n",
    "for word in finalreview.split():\n",
    "  finalrevlist.append(snowball.stem(word))\n",
    "ffreview = ' '.join(finalrevlist)\n",
    "print(ffreview)"
   ]
  }
 ],
 "metadata": {
  "accelerator": "GPU",
  "colab": {
   "collapsed_sections": [],
   "name": "preprotests.ipynb",
   "provenance": [],
   "version": "0.3.2"
  },
  "kernelspec": {
   "display_name": "Python 3",
   "language": "python",
   "name": "python3"
  },
  "language_info": {
   "codemirror_mode": {
    "name": "ipython",
    "version": 3
   },
   "file_extension": ".py",
   "mimetype": "text/x-python",
   "name": "python",
   "nbconvert_exporter": "python",
   "pygments_lexer": "ipython3",
   "version": "3.6.5"
  }
 },
 "nbformat": 4,
 "nbformat_minor": 1
}
