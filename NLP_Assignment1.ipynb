{
 "cells": [
  {
   "cell_type": "code",
   "execution_count": 4,
   "metadata": {
    "colab": {
     "base_uri": "https://localhost:8080/",
     "height": 69
    },
    "colab_type": "code",
    "id": "xdHQ2lpHI2uP",
    "outputId": "579ad71f-3f5f-41d8-f64e-1873d051a720"
   },
   "outputs": [],
   "source": [
    "import re"
   ]
  },
  {
   "cell_type": "code",
   "execution_count": 14,
   "metadata": {
    "colab": {
     "base_uri": "https://localhost:8080/",
     "height": 104
    },
    "colab_type": "code",
    "id": "zUqFnQK4Yv2N",
    "outputId": "94ff641c-2d87-4cac-80d4-567c104a998a"
   },
   "outputs": [
    {
     "name": "stdout",
     "output_type": "stream",
     "text": [
      "['03/8/2018']\n",
      "['07.08.18']\n",
      "['2018-11-9', '2018-13-04']\n",
      "['October 22 , 2018', 'October 24, 2018', 'October 29,  2018']\n",
      "['1 Nov,2018', '03 Nov ,2018', '32 Nov,2018']\n",
      "['1-08-2018', '04-14-1994']\n",
      "['2018/11/03', '2018.11.07']\n"
     ]
    }
   ],
   "source": [
    "testdate = '''Possible dates for the first assessment exams are 1-08-2018, 03/8/2018, 07.08.18 , 04-14-1994 , \n",
    "Possible dates for the second assessment exams are October 22 , 2018 ,  October 24, 2018 ,  October 29,  2018 ,\n",
    "1 Nov,2018, 03 Nov ,2018 32 Nov,2018 Possible dates for semester exams are 2018/11/03, 2018.11.07, 2018-11-9 , 2018-13-04'''\n",
    "\n",
    "\n",
    "print(re.findall('\\\\b\\d{1,2}/\\d{1,2}/\\d{2,4}\\\\b', testdate)) #dd/mm/yy or #dd/mm/yyyy\n",
    "\n",
    "print(re.findall('\\\\b\\d{1,2}\\.\\d{1,2}\\.\\d{2,4}\\\\b', testdate)) #dd.mm.yyyy or #dd.mm.yy\n",
    "\n",
    "print(re.findall('\\\\b\\d{4}-\\d{1,2}-\\d{1,2}\\\\b', testdate)) #yyyy-mm-dd\n",
    "\n",
    "print(re.findall('(?:January|February|October) \\d{1,2} *\\, *\\d{4}\\\\b', testdate)) #Month dd, yyyy\n",
    "\n",
    "print(re.findall('\\d{1,2} (?:Jan|Feb|Mar|Apr|May|June|July|Aug|Sept|Oct|Nov|Dec) *\\,\\d{4}',testdate)) #dd Mon,yyyy\n",
    "\n",
    "print(re.findall('\\\\b\\d{1,2}-\\d{1,2}-\\d{4}\\\\b', testdate)) #dd-mm-yyyy\n",
    "\n",
    "print(re.findall('\\\\b\\d{4}[\\.\\/]\\d{1,2}[\\.\\/]\\d{1,2}\\\\b', testdate)) #yyyy/mm/dd"
   ]
  },
  {
   "cell_type": "code",
   "execution_count": 19,
   "metadata": {
    "colab": {
     "base_uri": "https://localhost:8080/",
     "height": 86
    },
    "colab_type": "code",
    "id": "TvcOL1wThjLp",
    "outputId": "f9f23342-666a-4637-ec71-65ba7f174d11"
   },
   "outputs": [
    {
     "name": "stdout",
     "output_type": "stream",
     "text": [
      "[]\n",
      "[]\n",
      "['5.15 am', '5.15 PM', '5.15 PM']\n",
      "['05:15', '13:04', '13:24']\n"
     ]
    }
   ],
   "source": [
    "testtime = '''Possible starting  times are\n",
    "5.15AM  or 05:15 AM  or 5.15am or 5.15 am\n",
    "5.15 PM or 5:15PM  or 5.15 PM or 5.15pm\n",
    "13:4 or 13:04:22 or 13:24:22.04'''\n",
    "\n",
    "#4.30 AM, 4:30 am, 5.15 pm, 13:24\n",
    "\n",
    "print(re.findall('\\\\b\\d{1,2}\\.\\d{1,2} AM',testtime)) #H.MM AM\n",
    "\n",
    "print(re.findall('\\\\b\\d{1,2}\\:\\d{1,2} am',testtime)) #H:MM am\n",
    "\n",
    "print(re.findall('\\\\b\\d{1,2}\\.\\d{1,2} (?:PM|am)',testtime)) #H.MM PM\n",
    "\n",
    "print(re.findall('\\\\b\\d{2}\\:\\d{2}',testtime)) #HH:MM     \n"
   ]
  },
  {
   "cell_type": "code",
   "execution_count": 89,
   "metadata": {},
   "outputs": [
    {
     "name": "stdout",
     "output_type": "stream",
     "text": [
      "['e 7382293451']\n",
      "['+917382293451']\n",
      "['(+91) 7382293451']\n"
     ]
    }
   ],
   "source": [
    "testmob = '''Possible  mobile number formats are 7382293451 \n",
    "91738293451 or 91 7382293451 +917382293451 or +91 7382293451 or\n",
    "+  91 7382293451 (+91)738229345 or ( +91 )7382293451 or (+91) 7382293451'''\n",
    "\n",
    "#7382293451 +917382293451 (+91) 738229345\n",
    "\n",
    "print(re.findall('[^\\+)\\d] \\d{10}',testmob))\n",
    "\n",
    "print(re.findall('\\+\\d{2}\\d{10}',testmob))\n",
    "\n",
    "print(re.findall('\\(\\+91\\) \\d{10}', testmob))"
   ]
  },
  {
   "cell_type": "code",
   "execution_count": 92,
   "metadata": {},
   "outputs": [
    {
     "name": "stdout",
     "output_type": "stream",
     "text": [
      "['e 22469']\n",
      "['04322469']\n",
      "['(043)22469']\n"
     ]
    }
   ],
   "source": [
    "testll = '''Landline number formats are 22469 04322469 or 043 22469 (043)22469 or ( 043 )22469 or (043) 22469'''\n",
    "\n",
    "#22469  04322469  (043)22469\n",
    "\n",
    "print(re.findall('[^)\\d] \\d{5}',testll))\n",
    "\n",
    "print(re.findall('043\\d{5}',testll))\n",
    "\n",
    "print(re.findall('\\(043\\)\\d{5}',testll))"
   ]
  },
  {
   "cell_type": "code",
   "execution_count": 31,
   "metadata": {},
   "outputs": [
    {
     "name": "stdout",
     "output_type": "stream",
     "text": [
      "['500.1 dollars']\n",
      "['$ 1.24']\n"
     ]
    }
   ],
   "source": [
    "testcur = '''$500.12 , 500.12dollars, 500.1 dollars\n",
    "$ 1.24 , 1.25dollars,  $1,000.40 , $10,000.14'''\n",
    "\n",
    "#10 dollars    $ 10\n",
    "\n",
    "print(re.findall('\\d+\\.\\d* dollars',testcur))\n",
    "\n",
    "print(re.findall('\\$ \\d+\\.\\d*',testcur))"
   ]
  },
  {
   "cell_type": "code",
   "execution_count": 141,
   "metadata": {},
   "outputs": [
    {
     "name": "stdout",
     "output_type": "stream",
     "text": [
      "1,046\n",
      "1,00,049\n",
      "1,000,496\n"
     ]
    }
   ],
   "source": [
    "#1046 → 1,046\n",
    "#100049 → 1,00,49 [Indian]\n",
    "#1000496 → 1,000,496 [US]\n",
    "\n",
    "testcurcon = '''1046'''\n",
    "print(re.sub('([\\d])(\\d{3})','\\\\1,\\\\2',testcurcon))\n",
    "\n",
    "testcurcon2 = '''100049'''\n",
    "print(re.sub('([\\d])(\\d{2})(\\d{2})','\\\\1,\\\\2,\\\\3',testcurcon2))\n",
    "\n",
    "testcurcon3 = '''1000496'''\n",
    "print(re.sub('([\\d])(\\d{3})(\\d{3})','\\\\1,\\\\2,\\\\3',testcurcon3))"
   ]
  },
  {
   "cell_type": "code",
   "execution_count": 32,
   "metadata": {},
   "outputs": [
    {
     "name": "stdout",
     "output_type": "stream",
     "text": [
      "[]\n",
      "[]\n",
      "['abcd AT nitt DOT edu']\n",
      "['abcd.yz(AT) iiith (DOT) ac (DOT) in']\n"
     ]
    }
   ],
   "source": [
    "testmails = '''abcd.yz [at] iiith [dot] ac[dot]\n",
    "in  can be written like  abcd.yz [AT] iiith [DOT] ac [DOT] in  or\n",
    "like  abcd.yz(AT) iiith (DOT) ac (DOT) in , abcd.yz(at ) iiith ( dot) ac. In,\n",
    "abcd[at]nitt.edu  or  abcd AT nitt DOT edu  etc'''\n",
    "\n",
    "#abcd.yz [at] iiith [dot] ac [dot] in\n",
    "#abcd [at] nitt.edu\n",
    "#abcd AT nitt DOT edu\n",
    "#abcd.yz(AT) iiith (DOT) ac (DOT) in \n",
    "\n",
    "print(re.findall('\\w+\\.\\w+ \\[at\\] iiith \\[dot\\] ac \\[dot\\] in',testmails))\n",
    "\n",
    "print(re.findall('\\w+ \\[at\\] nitt.edu',testmails))\n",
    "\n",
    "print(re.findall('\\w+ AT nitt DOT edu', testmails))\n",
    "\n",
    "print(re.findall('\\w+\\.\\w+\\(AT\\) iiith \\(DOT\\) ac \\(DOT\\) in', testmails))"
   ]
  },
  {
   "cell_type": "code",
   "execution_count": 47,
   "metadata": {},
   "outputs": [
    {
     "name": "stdout",
     "output_type": "stream",
     "text": [
      "[' www.cricbuzz.in']\n",
      "['https://www.google.co.in', 'http://www.abcd.me']\n"
     ]
    }
   ],
   "source": [
    "testurls = '''https://www.google.co.in www.cricbuzz.in http://www.abcd.me \n",
    "This course is very good E:\\nlp\\deep learning\\ Andrew ng\\ course1\\introduction.mp4 C:\\desktop\\nlptutorial1.1.pdf'''\n",
    "\n",
    "#www.website.extension\n",
    "#http[s]://www.website.extenstion\n",
    "\n",
    "print(re.findall('[^/]www\\.\\w+\\.\\w+', testurls))\n",
    "\n",
    "print(re.findall('https?\\://www\\.\\w+\\.\\w+\\.?\\w*',testurls))"
   ]
  },
  {
   "cell_type": "code",
   "execution_count": 142,
   "metadata": {},
   "outputs": [
    {
     "name": "stdout",
     "output_type": "stream",
     "text": [
      "['Rama Viswanath', 'friends Rama', 'Rama Subash', 'Chandra Bose', 'Subash Chandra', 'John Xavier']\n",
      "['Rama V.', 'Subash C.']\n",
      "['V.Rama', 'B.Kavitha']\n",
      "['Rama Viswanath called', 'Rama Subash Chandra', 'Subash Chandra Bose', 'Xavier are members']\n",
      "['S. C. Bose', 'S. C. Bose']\n",
      "['Subash C. Bose']\n",
      "['Mr. Subash Chandra Bose']\n",
      "['Mr. S. C. Bose']\n"
     ]
    }
   ],
   "source": [
    "testnames = '''Rama Viswanath called by her friends Rama V. or V.Rama Subash Chandra Bose\n",
    "called as  S. C. Bose  or sometimes  Subash C. Bose, Mr. Subash Chandra Bose, Mr. S. C. Bose\n",
    "Sri  A. Sumanth,  Dr. S. Priya  , Dr.B.Kavitha, Prof. John Xavier are members of the committee.'''\n",
    "\n",
    "\n",
    "print(re.findall('[a-zA-z]{4,} [a-zA-Z]{3,}' ,testnames)) #Rama Viswanath  #false positives\n",
    "\n",
    "print(re.findall('\\S{4,} \\S\\.' ,testnames)) #Rama V.\n",
    "\n",
    "print(re.findall('[a-zA-Z]{1}\\.[a-zA-Z]{4,}' ,testnames)) #V.Rama\n",
    "\n",
    "print(re.findall('[a-zA-z]{4,} [a-zA-Z]{3,} [a-zA-Z]{4,}', testnames)) #Subash Chandra Bose #false positives\n",
    "\n",
    "print(re.findall('\\\\b[a-zA-Z]{1}\\. [a-zA-Z]{1}\\. [a-zA-Z]{4,}' ,testnames)) #S. C. Bose\n",
    "\n",
    "print(re.findall('\\\\b[a-zA-Z]{3,} [a-zA-Z]{1}\\. [a-zA-Z]{4,}' ,testnames)) #Subash C. Bose\n",
    "\n",
    "print(re.findall('Mr\\. [a-zA-z]{4,} [a-zA-Z]{3,} [a-zA-Z]{4,}', testnames)) #Mr. Subash Chandra Bose\n",
    "\n",
    "print(re.findall('Mr\\. [a-zA-Z]{1}\\. [a-zA-Z]{1}\\. [a-zA-Z]{4,}' ,testnames)) #Mr. S. C. Bose\n"
   ]
  },
  {
   "cell_type": "code",
   "execution_count": 156,
   "metadata": {},
   "outputs": [
    {
     "name": "stdout",
     "output_type": "stream",
     "text": [
      "United States of America and I.T. and United States of America\n",
      "U.S.A. andInformation Technologyand U.S.A.\n"
     ]
    }
   ],
   "source": [
    "testabr = \"U.S.A. and I.T. and U.S.A.\"\n",
    "print(re.sub('[A-Z]\\.[A-Z]\\.[A-Z].','United States of America', testabr)) #3 letters\n",
    "print(re.sub('[^A-Z\\.][A-Z]\\.[A-Z]\\.[^A-Z]','Information Technology', testabr)) #2 letters"
   ]
  }
 ],
 "metadata": {
  "colab": {
   "collapsed_sections": [],
   "name": "NLP tests.ipynb",
   "provenance": [],
   "version": "0.3.2"
  },
  "kernelspec": {
   "display_name": "Python 3",
   "language": "python",
   "name": "python3"
  },
  "language_info": {
   "codemirror_mode": {
    "name": "ipython",
    "version": 3
   },
   "file_extension": ".py",
   "mimetype": "text/x-python",
   "name": "python",
   "nbconvert_exporter": "python",
   "pygments_lexer": "ipython3",
   "version": "3.6.5"
  }
 },
 "nbformat": 4,
 "nbformat_minor": 1
}
