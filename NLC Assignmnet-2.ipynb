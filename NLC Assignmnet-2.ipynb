{
 "cells": [
  {
   "cell_type": "code",
   "execution_count": 0,
   "metadata": {
    "colab": {},
    "colab_type": "code",
    "id": "pGd_mTQ4J9Z0"
   },
   "outputs": [],
   "source": [
    "from urllib.request import urlopen #This module is used to open url's\n",
    "from bs4 import BeautifulSoup #It is used to extract data from html files"
   ]
  },
  {
   "cell_type": "markdown",
   "metadata": {
    "colab_type": "text",
    "id": "TA5r7BySMZK7"
   },
   "source": [
    "# Initially I have taken an article on \"What time do top CEOs wake up?\". because it has different time formats in it."
   ]
  },
  {
   "cell_type": "code",
   "execution_count": 87,
   "metadata": {
    "colab": {
     "base_uri": "https://localhost:8080/",
     "height": 34
    },
    "colab_type": "code",
    "executionInfo": {
     "elapsed": 1454,
     "status": "ok",
     "timestamp": 1536316720944,
     "user": {
      "displayName": "Swamy Sriharsha",
      "photoUrl": "//lh4.googleusercontent.com/-9Fgow919ry4/AAAAAAAAAAI/AAAAAAAADrY/V0mtUrANlBQ/s50-c-k-no/photo.jpg",
      "userId": "101573941070641181625"
     },
     "user_tz": -330
    },
    "id": "z8339LiiNZqR",
    "outputId": "fb585773-7057-4646-e5fa-7a48c6370118"
   },
   "outputs": [
    {
     "data": {
      "text/plain": [
       "bs4.BeautifulSoup"
      ]
     },
     "execution_count": 87,
     "metadata": {
      "tags": []
     },
     "output_type": "execute_result"
    }
   ],
   "source": [
    "url = \"https://www.theguardian.com/money/2013/apr/01/what-time-ceos-start-day\" #this is the link for the above mentioned article\n",
    "\n",
    "htmldata = urlopen(url) #to get the html of the page\n",
    "\n",
    "soup = BeautifulSoup(htmldata, 'html.parser') #creating a beautifulSoup object\n",
    "\n",
    "type(soup)"
   ]
  },
  {
   "cell_type": "markdown",
   "metadata": {
    "colab_type": "text",
    "id": "xI5ClgxcOU8J"
   },
   "source": [
    "<h4>In the above object, first parameter indicates the htmldata and second parameter is the html parser.</h4>"
   ]
  },
  {
   "cell_type": "code",
   "execution_count": 88,
   "metadata": {
    "colab": {
     "base_uri": "https://localhost:8080/",
     "height": 34
    },
    "colab_type": "code",
    "executionInfo": {
     "elapsed": 1409,
     "status": "ok",
     "timestamp": 1536316723745,
     "user": {
      "displayName": "Swamy Sriharsha",
      "photoUrl": "//lh4.googleusercontent.com/-9Fgow919ry4/AAAAAAAAAAI/AAAAAAAADrY/V0mtUrANlBQ/s50-c-k-no/photo.jpg",
      "userId": "101573941070641181625"
     },
     "user_tz": -330
    },
    "id": "rZRUDdpgP9to",
    "outputId": "07bedaca-4d69-4964-adf6-a5a4f3ba942a"
   },
   "outputs": [
    {
     "data": {
      "text/plain": [
       "<title>What time do top CEOs wake up? | Money | The Guardian</title>"
      ]
     },
     "execution_count": 88,
     "metadata": {
      "tags": []
     },
     "output_type": "execute_result"
    }
   ],
   "source": [
    "soup.title"
   ]
  },
  {
   "cell_type": "code",
   "execution_count": 90,
   "metadata": {
    "colab": {
     "base_uri": "https://localhost:8080/",
     "height": 241
    },
    "colab_type": "code",
    "executionInfo": {
     "elapsed": 1382,
     "status": "ok",
     "timestamp": 1536316733748,
     "user": {
      "displayName": "Swamy Sriharsha",
      "photoUrl": "//lh4.googleusercontent.com/-9Fgow919ry4/AAAAAAAAAAI/AAAAAAAADrY/V0mtUrANlBQ/s50-c-k-no/photo.jpg",
      "userId": "101573941070641181625"
     },
     "user_tz": -330
    },
    "id": "QKNtGk-IQVjv",
    "outputId": "37d96902-1f2b-4668-83e5-1acc95bf5ba4"
   },
   "outputs": [
    {
     "data": {
      "text/plain": [
       "[<p aria-hidden=\"true\" class=\"content__dateline\">\n",
       " <time class=\"content__dateline-wpd js-wpd\" data-timestamp=\"1364833800000\" datetime=\"2013-04-01T17:30:00+0100\" itemprop=\"datePublished\">\n",
       " Mon 1 Apr 2013 <span class=\"content__dateline-time\">17.30 BST</span>\n",
       " </time>\n",
       " <time class=\"content__dateline-lm js-lm u-h\" data-timestamp=\"1364833800000\" datetime=\"2013-04-01T17:30:00+0100\">\n",
       " First published on Mon 1 Apr 2013 <span class=\"content__dateline-time\">17.30 BST</span>\n",
       " </time>\n",
       " </p>,\n",
       " <p><span class=\"drop-cap\"><span class=\"drop-cap__inner\">I</span></span>nvestigating the bedtimes of high achievers in hopes of divining the secret of success sounds a bit like looking to a novelist's desk placement for the key to good writing. I want my characters to be believable – should I be facing the window? But there is no doubt that once you start examining the daily schedules of CEOs, patterns emerge. Some of the routine is dictated by the job, but a lot of it is the product of outlook and approach. These folks live their lives in a very directed way. How do they manage, day in, day out? And what can we learn from the habits of seven highly effective people?</p>,\n",
       " <p><span class=\"bullet\">•</span> First off – and there's no getting around this one, I'm afraid – you have to get up early. Really early: 6am is good, but 5am is better. And CEOs don't hit snooze: most of them claim to leap out of bed in the morning (even though it's basically still night) and more than one said that \"life is too exciting\" for sleep.</p>,\n",
       " <p><span class=\"bullet\">•</span> Business and domestic life are hopelessly blurred. Leisure activities are as rigidly organised as the office diary – nobody lies in on Saturdays; they get up early and exercise – and everybody seems happy to let work follow them home. Quality time with children is timetabled, which might sound a bit ruthless, but at least they are determined to include some. For most of these company heads, the working week starts again on Sunday evening.</p>,\n",
       " <p><span class=\"bullet\">•</span> It's clear that none of these people ever gets a chance to do the sudoku in the morning.</p>]"
      ]
     },
     "execution_count": 90,
     "metadata": {
      "tags": []
     },
     "output_type": "execute_result"
    }
   ],
   "source": [
    "#I have observed that entire text content has been placed in between paragraph tags\n",
    "\n",
    "allps = soup.find_all('p') #returns the list of all paragraph tags\n",
    "\n",
    "allps[:5]"
   ]
  },
  {
   "cell_type": "markdown",
   "metadata": {
    "colab_type": "text",
    "id": "l5qXcAYnSSS1"
   },
   "source": [
    "<h4>The one way to remove html tags is to  pass the string of all the above list elements into BeautifulSoup() and use the get_text() method to extract the text without html tags.</h4>"
   ]
  },
  {
   "cell_type": "code",
   "execution_count": 91,
   "metadata": {
    "colab": {
     "base_uri": "https://localhost:8080/",
     "height": 173
    },
    "colab_type": "code",
    "executionInfo": {
     "elapsed": 1419,
     "status": "ok",
     "timestamp": 1536316739249,
     "user": {
      "displayName": "Swamy Sriharsha",
      "photoUrl": "//lh4.googleusercontent.com/-9Fgow919ry4/AAAAAAAAAAI/AAAAAAAADrY/V0mtUrANlBQ/s50-c-k-no/photo.jpg",
      "userId": "101573941070641181625"
     },
     "user_tz": -330
    },
    "id": "rBS-EgUSRh-W",
    "outputId": "e6cd06b7-e273-4047-bf28-2e130bbc592f"
   },
   "outputs": [
    {
     "name": "stdout",
     "output_type": "stream",
     "text": [
      "[\n",
      "\n",
      "Mon 1 Apr 2013 17.30 BST\n",
      "\n",
      "\n",
      "First published on Mon 1 Apr 2013 17.30 BST\n",
      "\n",
      ", Investigating the bedtimes of high achievers in hopes of divining the secret of success sounds a bit like looking to a novelist's desk placement for the key to good writing. I want my characters to be believable – should I be facing the window? But there is no doubt that once you start examining the daily schedules of CEOs, patterns emerge. Some of the routine is dictated by the job, but a lot of it is the product of outlook and approach. These folks live their lives in a very directed way. How do they manage, day in, day out? And what can we learn from the habits of seven highly effective people?, • First off – and there's no getting around this one, I'm afraid – you have to get up early. Really early: 6am is good, but 5am is better. And CEOs don't hit snooze: most of them claim to leap out of bed in the morning (even though it's basically still night) and more than one said that \"life is too exciting\" for sleep., • Business and domestic life are hopelessly blurred. Leisure activities are as rigidly organised as the office diary – nobody lies in on Saturdays; they get up early and exercise – and everybody seems happy to let work follow them home. Quality time with children is timetabled, which might sound a bit ruthless, but at least they are determined to include some. For most of these company heads, the working week starts again on Sunday evening., • It's clear that none of these people ever gets a chance to do the sudoku in the morning., • They may be in charge of large international companies, but they are absolute slaves to email. Karen Blackett of MediaCom claims to receive 500 a day. They're emailing first thing in the morning, and last thing at night, and throughout the day. For the modern CEO, dealing with your own email seems to be some kind of touchstone of accessibility. I'm not sure what I'd do if I got 500 emails every day, but I know what I wouldn't do: I wouldn't read them., • Far from giving you a blueprint for your rise to the top, these routines will probably cause you to reconsider the whole idea of becoming CEO of a major communications conglomerate. For the most part, it sounds horrible. There is no respite at the top of the greasy pole, no finish line at the end of the rat race – it's just more of the same. What's the point of being rich and successful if you have to get up before dawn every day to answer 500 emails? There are so many other options open to you: wage slave, failed artist, cowboy plumber, petty thief, local weirdo. The money isn't good, but the hours are very attractive., • Interviews by Laura Barnett and Patrick Kingsley, How and when does your morning start?, I usually get up at 5 or 5:15am. Historically, I would start sending emails when I got up. But not everyone is on my time schedule, so I have tried to wait until 7am. Before I email, I work out, read, and use our products. By 7am, I usually have questions or feedback about AOL. I am not a big sleeper and never have been. Life is too exciting to sleep. Arianna Huffington is preaching sleep to me all the time, but I will need a DNA transplant to adhere to her advice. She is right, but I just can't do it. I have three kids and my middle daughter (nine) has my sleep DNA, so she gets up and I drink coffee and she tells me about her life., When you wake up, do you leap out of bed immediately?, Yes., What time are you at your desk?, My desk starts the minute I leave my house. I have a driver and my commute is a little over an hour. I am very productive in the car., Do you email throughout the day?, I do most emails in the morning, during the commute, and late at night. When I am at the office I try to listen and learn., Do you have a secret email address?, No. Do you?, What time do you go home?, Most days around 7pm and I get home at 8 or just after. When I get home, I try to read my two daughters a book. They usually win and get two or three books. I eat dinner with my wife; she is a gourmet cook and her food beats most of the best restaurants in New York. After dinner, I play Nerf hoops with my 11-year-old son – full contact, losers out, and no hanging on the rim., What time do you go to bed?, Most nights around 11. Can be later if I have a dinner in the city., How much sleep do you get?, I try to get six hours. I can operate on less, but it isn't ideal., What is your weekend like?, Friday night is family movie night. Saturday is sports with kids. I am coaching my son's fifth grade basketball team on Saturday and Sunday, and it is my favourite thing all week. Saturday night is date night with my wife and sometimes dinner with friends. Sundays are church, basketball and work, starting at 7pm – calls and emails., How and when does your morning start?, Left to my own devices, which means assuming I don't have to travel, I get up every day at 6.20am. No alarm. That's just when I wake up every morning, weekends too. First thing I do is look at my emails and answer any outstanding. I can't stand having any not done! Then I look at the BBC news website, then Twitter. If that counts as an early start, I do it because I always like to be on top of work so I can enjoy the non-work stuff, like having breakfast with the family and talking to my daughter on the way to school, rather than being distracted by work. So it sort of helps me have a normal life., What time are you at your desk?, If I'm working in my home city of Edinburgh I'm at my desk by 8.30am, having dropped Amy off at school. I email all the time. It used to drive me mad, but that's now the way I keep on top of things. Multi-tasking has become essential as far as I can see. I do have a separate private email address that fewer people know – but that gets quite busy too these days., What time do you go home?, I try to be home by 7pm. If I'm away I work until about 10pm – again, that's a way of not letting things encroach on normal life too much. I do work from home in the evening, but usually only in a multi-tasking sort of way. I certainly don't sit at a desk., When is bedtime?, I try to be in bed by 10.30pm. And I always sleep like a log! I need and get about eight hours a night, unless I'm travelling, when I just get what I can. I rarely feel tired. Life's too exciting! I always get straight out of bed when I wake up. I don't lie there doing my emails., What is your weekend like?, I love my weekends. I try to run both days before the rest of the family is up. Then being the normal taxi service for children kicks in. We usually have dinner with friends on a Saturday night and then more family stuff on a Sunday, until about 4pm. In the winter I like to be home then, curtains drawn, music on and getting us all ready for the week ahead – homework check, clothes check, scrubbed up – a nice tea, then settle in front of the telly., What time do you get up?, At 5.45am three times a week to spend 45 minutes in my garage, which I have turned into a gym. Otherwise, I wake when my son comes into my room – any time between 6.30 and 7am., When you wake up, do you leap out of bed immediately?, Define \"leap\" – I'd say I roll out of bed., What time do you start sending emails?, I quickly scan my emails while my son is taking over my bed and having his milk. Urgent ones I reply to there and then. I flag others to follow up on my commute into work. My early start is due to the need to exercise more to keep fit as I get older, and due to my three-year-old kick-starting my day (literally)., What time are you at your desk?, 8.30-9am — it depends on whether my son is at nursery and I do the nursery run, or at home with his nanny., Do you email throughout the day, or do you have fixed times at which you send messages? , I receive an average of 500 emails a day, so I email throughout the day., Do you have a secret email address that few people know?, No, I'm accessible to everyone and there's no hierarchy., What time do you go home?, I try to be home for 6.30pm so that I can spend time with my son before he goes to sleep, read him his bedtime story and put him to bed at 7.30pm. My team know that I'll clock on again once Isaac is settled after 8pm, and reply to emails or take calls. My clients also know that., What time do you go to bed?, 11.30pm., How much sleep do you get?, Six to seven hours. I'm the mum of a three-year-old: you survive on what you can get! I thoroughly recommend ginseng and David Kirsch vitamins., What is your weekend like?, Isaac time, peppered with the odd bit of work when he's sleeping., What time do you get up?, It varies, but usually early., What time do you start sending emails?, No day is similar to another, but usually mail is part of my start of the day. Our company never sleeps: we have business in 180 countries, so there are no real mornings or nights., Do you email first thing?, I often exercise (running or gym), especially when I am travelling., What time are you at your desk?, Flexible on time but seldom after 8am., Do you email only at fixed times?, I read mails throughout the day but answer mails more in the morning and evening., Do you have a secret email address that few people know?, No, my mail address is open for anyone and I read all my mails by myself., What time do you go home? , It depends on the day's activities. If I am in Sweden, I try to get home to be with my children. I can do work after that from home., What time do you go to bed?, Quite late., How much sleep do you get?, It varies, but enough., How much do you need?, Not too much., When you wake up, do you leap out of bed immediately?, Yes., What is your weekend like?, I spend time with my family and exercise. Of course there's no such thing as a \"normal day\" – depending on travel schedule and customer meetings, so the answers above are all approximations., What time do you get up?, 5am, sometimes earlier. I get out of bed straight away and go downstairs to check and send emails on computer and BlackBerry. At 6.30am my children start to get up., How much sleep do you get?, Five to six hours. This is as much to do with having nine children as having a business job, but I do end up feeling a bit sleep-deprived. There isn't a lot of slack. I put on the washing about twice before I go to work. People make resolutions to do more things, but one of my ambitions for 2013 is to do slightly less. With children, you end up adjusting, and not needing so much sleep. But every now and again, you think: oh, I could do with a proper eight hours., What time are you at your desk?, About eight. I'm on my BlackBerry all the time., When do you go home?, Around 6pm. The whole family tends to eat together at about 7.30pm. I work after supper– sending more emails, often to US-based colleagues, or doing two hours of prep for the morning's meetings. I try to get to bed around 10pm, and aim to be asleep by 11pm, but there's usually one child who's awake. With so many there's bound to be one., What is your weekend like?, On Saturday evening, the whole family tends to sit down and watch a movie. On Sunday mornings, the children do their homework, and I do mine. I spend Sunday evenings preparing the children's schoolbags for the week ahead. It takes a little while, organising that many children, making sure the girls don't go off with the boys' stuff. I have done that occasionally., What time do you get up?, I am usually up by 6am, but wake earlier. I've always been an early riser. I love that sense of quiet first thing in the morning as the world (well, those of us on GMT) wakes up., What time do you start sending emails?, By 8am – sometimes earlier, depending on what is on my mind., Do you email first thing?, If I'm in London, I start the day with a cup of tea and a digestive biscuit. If I'm home in Kent, I feed my two spaniels, have a cup of tea and defend my digestive biscuits from being snaffled by my crafty dogs., What time are you at your desk?, I'm a bit of a wandering minstrel: my day often begins with breakfast meetings, before I head to my desk., Do you email throughout the day, or do you have fixed times at which you send messages?, I usually send emails throughout the day and into the evening. My business partners are in New York and LA, so emails/calls extend my working hours., Do you have a secret email address that few people know?, If I did, I wouldn't say., What time do you go home?, It varies as I usually have evening engagements., Do you work from home in the evening?, I try not to work too much from home in the evening, but it depends what's going on., What time do you go to bed?, I don't have a regular bedtime., How much sleep do you get?, My sleep patterns vary. I used to be a bad sleeper – ie a virtual insomniac – but I'm getting better with age. I'm always up early, I never need an alarm and am instantly awake., Do you feel tired?, Who doesn't, sometimes?, What is your weekend like?, I walk the dogs; try to learn to ride my horse, who continually sees tigers lurking behind trees; spend time with my partner and friends. And smile, because life is to be lived!, He gets up at 6am, exercises for 40 minutes then works continuously through the day with constant emails and meetings (\"because people need to progress with decisions and logistics, and technology today allows everybody to be always in contact\"). He works through until about 10.45pm – with a brief pause for dinner with his family – before going to sleep by 11.30pm. Weekends consist of four hours of exercise, then the remainder is split between time with his wife and children and preparing for the following week's work., Gaby Hinsliff: Technology is making it easier to juggle work and home – and it's blurring the gap between our public and private lives]\n"
     ]
    }
   ],
   "source": [
    "strps = str(allps)\n",
    "\n",
    "cleantext = BeautifulSoup(strps, \"html.parser\").get_text()\n",
    "\n",
    "print(cleantext)\n"
   ]
  },
  {
   "cell_type": "markdown",
   "metadata": {
    "colab_type": "text",
    "id": "J2Zh3mCJV-Mz"
   },
   "source": [
    "# Later I have taken the webpage of IISC faculty profiles, because it has mail addresses, weblinks, faculty names in it."
   ]
  },
  {
   "cell_type": "code",
   "execution_count": 20,
   "metadata": {
    "colab": {
     "base_uri": "https://localhost:8080/",
     "height": 34
    },
    "colab_type": "code",
    "executionInfo": {
     "elapsed": 6592,
     "status": "ok",
     "timestamp": 1536312368980,
     "user": {
      "displayName": "Swamy Sriharsha",
      "photoUrl": "//lh4.googleusercontent.com/-9Fgow919ry4/AAAAAAAAAAI/AAAAAAAADrY/V0mtUrANlBQ/s50-c-k-no/photo.jpg",
      "userId": "101573941070641181625"
     },
     "user_tz": -330
    },
    "id": "hfdQdoB4WXly",
    "outputId": "080ca1a0-0b48-4f4c-c888-ec3382da2ab3"
   },
   "outputs": [
    {
     "data": {
      "text/plain": [
       "bs4.BeautifulSoup"
      ]
     },
     "execution_count": 20,
     "metadata": {
      "tags": []
     },
     "output_type": "execute_result"
    }
   ],
   "source": [
    "url2 = \"https://www.csa.iisc.ac.in/people/people-faculty.php\" #this is the link for the above mentioned webpage\n",
    "\n",
    "htmldata2 = urlopen(url2) #to get the html of the page\n",
    "\n",
    "soup2 = BeautifulSoup(htmldata2, 'html.parser') #creating a beautifulSoup object\n",
    "\n",
    "type(soup2)"
   ]
  },
  {
   "cell_type": "code",
   "execution_count": 21,
   "metadata": {
    "colab": {
     "base_uri": "https://localhost:8080/",
     "height": 34
    },
    "colab_type": "code",
    "executionInfo": {
     "elapsed": 1391,
     "status": "ok",
     "timestamp": 1536312386622,
     "user": {
      "displayName": "Swamy Sriharsha",
      "photoUrl": "//lh4.googleusercontent.com/-9Fgow919ry4/AAAAAAAAAAI/AAAAAAAADrY/V0mtUrANlBQ/s50-c-k-no/photo.jpg",
      "userId": "101573941070641181625"
     },
     "user_tz": -330
    },
    "id": "5B1Q7QqCWnSj",
    "outputId": "613e7530-98a4-4d92-fd69-d3f2245964f4"
   },
   "outputs": [
    {
     "data": {
      "text/plain": [
       "<title>Computer Science and Automation - IISc</title>"
      ]
     },
     "execution_count": 21,
     "metadata": {
      "tags": []
     },
     "output_type": "execute_result"
    }
   ],
   "source": [
    "soup2.title"
   ]
  },
  {
   "cell_type": "code",
   "execution_count": 100,
   "metadata": {
    "colab": {
     "base_uri": "https://localhost:8080/",
     "height": 510
    },
    "colab_type": "code",
    "executionInfo": {
     "elapsed": 1368,
     "status": "ok",
     "timestamp": 1536317273470,
     "user": {
      "displayName": "Swamy Sriharsha",
      "photoUrl": "//lh4.googleusercontent.com/-9Fgow919ry4/AAAAAAAAAAI/AAAAAAAADrY/V0mtUrANlBQ/s50-c-k-no/photo.jpg",
      "userId": "101573941070641181625"
     },
     "user_tz": -330
    },
    "id": "USfikglmWuay",
    "outputId": "5a59b4e4-bcb0-4b87-91f0-d7f60ca90cbe"
   },
   "outputs": [
    {
     "data": {
      "text/plain": [
       "[<tr>\n",
       " <td align=\"center\" bgcolor=\"#FFFFFF\" valign=\"middle\"><a href=\"http://www.csa.iisc.ac.in/\"><img alt=\"Department of Computer Science and Automation\" border=\"0\" src=\"images/logo-csa.jpg\" width=\"100\"/></a></td>\n",
       " <td align=\"center\" bgcolor=\"#FFFFFF\" valign=\"middle\"><img alt=\"Department of Computer Science and Automation, IISc, Bangalore, India\" height=\"37\" src=\"images/title.gif\" width=\"451\"/></td>\n",
       " <td align=\"center\" bgcolor=\"#FFFFFF\" valign=\"middle\"><a href=\"http://www.iisc.ac.in/\" target=\"_blank\"><img alt=\"Indian Institute of Science\" border=\"0\" height=\"90\" src=\"images/logo-iisc.jpg\" width=\"100\"/></a></td>\n",
       " </tr>, <tr>\n",
       " <td bgcolor=\"#003399\">\n",
       " <table align=\"center\" border=\"0\" cellpadding=\"3\" cellspacing=\"0\">\n",
       " <tr>\n",
       " <td align=\"center\" valign=\"middle\"><a class=\"hometop\" href=\"../index.php\">HOME</a></td>\n",
       " <td align=\"center\" class=\"divtoplnk\" valign=\"middle\">|</td>\n",
       " <td align=\"center\" valign=\"middle\"><a class=\"hometop\" href=\"../aboutus/aboutus.php\">ABOUT US </a></td>\n",
       " <td align=\"center\" class=\"divtoplnk\" valign=\"middle\">|</td>\n",
       " <td align=\"center\" valign=\"middle\"><a class=\"hometop\" href=\"../people/people-faculty.php\">PEOPLE</a></td>\n",
       " <td align=\"center\" class=\"divtoplnk\" valign=\"middle\">|</td>\n",
       " <td align=\"center\" valign=\"middle\"><a class=\"hometop\" href=\"../research/research.php\">RESEARCH</a></td>\n",
       " <td align=\"center\" class=\"divtoplnk\" valign=\"middle\">|</td>\n",
       " <td align=\"center\" valign=\"middle\"><a class=\"hometop\" href=\"../academics/academics.php\">ACADEMICS</a></td>\n",
       " <td align=\"center\" class=\"divtoplnk\" valign=\"middle\">|</td>\n",
       " <td align=\"center\" valign=\"middle\"><a class=\"hometop\" href=\"../facilities/facilities-computing.php\">FACILITIES</a></td>\n",
       " <td align=\"center\" class=\"divtoplnk\" valign=\"middle\">|</td>\n",
       " <td align=\"center\" valign=\"middle\"><a class=\"hometop\" href=\"../sem-evts/seminars.php\">EVENTS / SEMINARS</a></td>\n",
       " <td align=\"center\" class=\"divtoplnk\" valign=\"middle\">|</td>\n",
       " <td align=\"center\" valign=\"middle\"><a class=\"hometop\" href=\"../news/news.php\">NEWS</a></td>\n",
       " <td align=\"center\" class=\"divtoplnk\" valign=\"middle\">|</td>\n",
       " <td align=\"center\" valign=\"middle\"><a class=\"hometop\" href=\"../contact/contactus.php\">CONTACT US</a></td>\n",
       " </tr>\n",
       " </table>\n",
       " </td>\n",
       " </tr>]"
      ]
     },
     "execution_count": 100,
     "metadata": {
      "tags": []
     },
     "output_type": "execute_result"
    }
   ],
   "source": [
    "#I have observed that the weblinks were inside href attribute of anchor tags and mail id's are placed as values of anchor tags\n",
    "\n",
    "allrows = soup2.find_all('tr') #returns the list of all table rows\n",
    "\n",
    "allrows[:2]"
   ]
  },
  {
   "cell_type": "code",
   "execution_count": 106,
   "metadata": {
    "colab": {
     "base_uri": "https://localhost:8080/",
     "height": 156
    },
    "colab_type": "code",
    "executionInfo": {
     "elapsed": 1233,
     "status": "ok",
     "timestamp": 1536317404968,
     "user": {
      "displayName": "Swamy Sriharsha",
      "photoUrl": "//lh4.googleusercontent.com/-9Fgow919ry4/AAAAAAAAAAI/AAAAAAAADrY/V0mtUrANlBQ/s50-c-k-no/photo.jpg",
      "userId": "101573941070641181625"
     },
     "user_tz": -330
    },
    "id": "o-A29532Y00o",
    "outputId": "2e4a7c0a-b6c2-487f-f379-03bee0007012"
   },
   "outputs": [
    {
     "name": "stdout",
     "output_type": "stream",
     "text": [
      "[<a href=\"http://www.csa.iisc.ac.in/\"><img alt=\"Department of Computer Science and Automation\" border=\"0\" src=\"images/logo-csa.jpg\" width=\"100\"/></a>, <a href=\"http://www.iisc.ac.in/\" target=\"_blank\"><img alt=\"Indian Institute of Science\" border=\"0\" height=\"90\" src=\"images/logo-iisc.jpg\" width=\"100\"/></a>, <a class=\"hometop\" href=\"../index.php\">HOME</a>, <a class=\"hometop\" href=\"../aboutus/aboutus.php\">ABOUT US </a>, <a class=\"hometop\" href=\"../people/people-faculty.php\">PEOPLE</a>, <a class=\"hometop\" href=\"../research/research.php\">RESEARCH</a>, <a class=\"hometop\" href=\"../academics/academics.php\">ACADEMICS</a>, <a class=\"hometop\" href=\"../facilities/facilities-computing.php\">FACILITIES</a>, <a class=\"hometop\" href=\"../sem-evts/seminars.php\">EVENTS / SEMINARS</a>, <a class=\"hometop\" href=\"../news/news.php\">NEWS</a>, <a class=\"hometop\" href=\"../contact/contactus.php\">CONTACT US</a>, <a class=\"hometop\" href=\"../index.php\">HOME</a>, <a class=\"hometop\" href=\"../aboutus/aboutus.php\">ABOUT US </a>, <a class=\"hometop\" href=\"../people/people-faculty.php\">PEOPLE</a>, <a class=\"hometop\" href=\"../research/research.php\">RESEARCH</a>, <a class=\"hometop\" href=\"../academics/academics.php\">ACADEMICS</a>, <a class=\"hometop\" href=\"../facilities/facilities-computing.php\">FACILITIES</a>, <a class=\"hometop\" href=\"../sem-evts/seminars.php\">EVENTS / SEMINARS</a>, <a class=\"hometop\" href=\"../news/news.php\">NEWS</a>, <a class=\"hometop\" href=\"../contact/contactus.php\">CONTACT US</a>, <a href=\"people-faculty.php\">Faculty</a>, <a href=\"people-visitors.php\"> Visitors</a>, <a href=\"people-postdoc.php\">Researchers</a>, <a href=\"people-students.php?mode=expandstudents\">Students</a>, <a href=\"people-phd.php\">Ph.D.</a>, <a href=\"people-mtech-research.php\">M.Tech. (Research)</a>, <a href=\"people-mtech-2018.php\">M.Tech. CSE 2018-20</a>, <a href=\"people-mtech-2017.php\">M.Tech. CSE 2017-19</a>, <a href=\"people-me-2016.php\">M.Tech. CSE 2016-18</a>, <a href=\"committee-members.php\">Committee Members</a>, <a href=\"people-staff.php\">Staff</a>, <a href=\"people-former-faculty.php\">Former\n",
      "\t\t\t\tFaculty</a>, <a href=\"people-alumni.php?mode=expandalumni\">Alumni</a>, <a href=\"people-joinus.php?mode=expandjoinus\">Join\n",
      "\t\t\t\tUs </a>, <a href=\"people-search.php\">Search </a>, <a href=\"http://www.csa.iisc.ac.in/contact/contactus-faculty.php\">Faculty\r\n",
      "\t\t\t\t\t\t\t\t\tcontact numbers</a>, <a href=\"/~barman\" target=\"\\'_BLANK\\'\">Siddharth Barman</a>, <a href=\"/~barman\" target=\"\\'_BLANK\\'\"><img border=\"1\" height=\"100\" hspace=\"0\" src=\"images/faculty-barman.jpg\" vspace=\"0\" width=\"80\"/></a>, <a href=\"http://drona.csa.iisc.ac.in/~arkapravab/\" target=\"\\'_BLANK\\'\">Arkaprava Basu</a>, <a href=\"http://drona.csa.iisc.ac.in/~arkapravab/\" target=\"\\'_BLANK\\'\"><img border=\"1\" height=\"100\" hspace=\"0\" src=\"images/faculty-arkapravab.jpg\" vspace=\"0\" width=\"80\"/></a>, <a href=\"/~shalabh\" target=\"\\'_BLANK\\'\">Shalabh Bhatnagar</a>, <a href=\"/~shalabh\" target=\"\\'_BLANK\\'\"><img border=\"1\" height=\"100\" hspace=\"0\" src=\"images/faculty-shalabh.jpg\" vspace=\"0\" width=\"80\"/></a>, <a href=\"http://drona.csa.iisc.ac.in/~arnabb/index.html\" target=\"\\'_BLANK\\'\">Arnab Bhattacharyya</a>, <a href=\"http://drona.csa.iisc.ac.in/~arnabb/index.html\" target=\"\\'_BLANK\\'\"><img border=\"1\" height=\"100\" hspace=\"0\" src=\"images/faculty-arnabb.jpg\" vspace=\"0\" width=\"80\"/></a>, <a href=\"/~chiru\" target=\"\\'_BLANK\\'\">Chiranjib Bhattacharyya</a>, <a href=\"/~chiru\" target=\"\\'_BLANK\\'\"><img border=\"1\" height=\"100\" hspace=\"0\" src=\"images/faculty-chiru.jpg\" vspace=\"0\" width=\"80\"/></a>, <a href=\"/~sunil\" target=\"\\'_BLANK\\'\">L. Sunil Chandran</a>, <a href=\"/~sunil\" target=\"\\'_BLANK\\'\"><img border=\"1\" height=\"100\" hspace=\"0\" src=\"images/faculty-sunil.jpg\" vspace=\"0\" width=\"80\"/></a>, <a href=\"/~sanjit\" target=\"\\'_BLANK\\'\">Sanjit Chatterjee</a>, <a href=\"/~sanjit\" target=\"\\'_BLANK\\'\"><img border=\"1\" height=\"100\" hspace=\"0\" src=\"images/faculty-sanjit.jpg\" vspace=\"0\" width=\"80\"/></a>, <a href=\"/~deepakd\" target=\"\\'_BLANK\\'\"> Deepak D Souza </a>, <a href=\"/~deepakd\" target=\"\\'_BLANK\\'\"><img border=\"1\" height=\"100\" hspace=\"0\" src=\"images/faculty-deepakd.jpg\" vspace=\"0\" width=\"80\"/></a>, <a href=\"http://cns.iisc.ac.in/sridhar\" target=\"\\'_BLANK\\'\"> Sridharan Devarajan </a>, <a href=\"http://cns.iisc.ac.in/sridhar\" target=\"\\'_BLANK\\'\"><img border=\"1\" height=\"100\" hspace=\"0\" src=\"images/faculty-sridhar.jpg\" vspace=\"0\" width=\"80\"/></a>, <a href=\"http://www.csa.iisc.ac.in/~susheela\" target=\"\\'_BLANK\\'\">V. Susheela Devi</a>, <a href=\"http://www.csa.iisc.ac.in/~susheela\" target=\"\\'_BLANK\\'\"><img border=\"1\" height=\"100\" hspace=\"0\" src=\"images/faculty-susheela.jpg\" vspace=\"0\" width=\"80\"/></a>, <a href=\"/~ad\" target=\"\\'_BLANK\\'\"> Ambedkar Dukkipati</a>, <a href=\"/~ad\" target=\"\\'_BLANK\\'\"><img border=\"1\" height=\"100\" hspace=\"0\" src=\"images/faculty-ad.jpg\" vspace=\"0\" width=\"80\"/></a>, <a href=\"http://drona.csa.iisc.ernet.in/~vg/\" target=\"\\'_BLANK\\'\"> Vinod Ganapathy </a>, <a href=\"http://drona.csa.iisc.ernet.in/~vg/\" target=\"\\'_BLANK\\'\"><img border=\"1\" height=\"100\" hspace=\"0\" src=\"images/faculty-vg.jpg\" vspace=\"0\" width=\"80\"/></a>, <a href=\"/~gopi\" target=\"\\'_BLANK\\'\">K. Gopinath</a>, <a href=\"/~gopi\" target=\"\\'_BLANK\\'\"><img border=\"1\" height=\"100\" hspace=\"0\" src=\"images/faculty-gopi.jpg\" vspace=\"0\" width=\"80\"/></a>, <a href=\"/~govind\" target=\"\\'_BLANK\\'\">R. Govindarajan</a>, <a href=\"/~govind\" target=\"\\'_BLANK\\'\"><img border=\"1\" height=\"100\" hspace=\"0\" src=\"images/faculty-govind.jpg\" vspace=\"0\" width=\"80\"/></a>, <a href=\"/~gsat\" target=\"\\'_BLANK\\'\">Sathish Govindarajan </a>, <a href=\"/~gsat\" target=\"\\'_BLANK\\'\"><img border=\"1\" height=\"100\" hspace=\"0\" src=\"images/faculty-gsat.jpg\" vspace=\"0\" width=\"80\"/></a>, <a href=\"http://www.csa.iisc.ac.in/people/people-faculty-hansdah.html\" target=\"\\'_BLANK\\'\">R.C. Hansdah</a>, <a href=\"http://www.csa.iisc.ac.in/people/people-faculty-hansdah.html\" target=\"\\'_BLANK\\'\"><img border=\"1\" height=\"100\" hspace=\"0\" src=\"images/faculty-hansdah.jpg\" vspace=\"0\" width=\"80\"/></a>, <a href=\"http://dsl.serc.iisc.ernet.in/~haritsa/\" target=\"\\'_BLANK\\'\">Jayant R. Haritsa</a>, <a href=\"http://dsl.serc.iisc.ernet.in/~haritsa/\" target=\"\\'_BLANK\\'\"><img border=\"1\" height=\"100\" hspace=\"0\" src=\"images/faculty-haritsa.jpg\" vspace=\"0\" width=\"80\"/></a>, <a href=\"http://www.iisc-seal.net/kanade\" target=\"\\'_BLANK\\'\">Aditya Kanade</a>, <a href=\"http://www.iisc-seal.net/kanade\" target=\"\\'_BLANK\\'\"><img border=\"1\" height=\"100\" hspace=\"0\" src=\"images/faculty-kanade.jpg\" vspace=\"0\" width=\"80\"/></a>, <a href=\"http://www.csa.iisc.ac.in/~bhavana\" target=\"\\'_BLANK\\'\">Bhavana Kanukurthi</a>, <a href=\"http://www.csa.iisc.ac.in/~bhavana\" target=\"\\'_BLANK\\'\"><img border=\"1\" height=\"100\" hspace=\"0\" src=\"images/faculty-bhavana.jpg\" vspace=\"0\" width=\"80\"/></a>, <a href=\"/~anand\" target=\"\\'_BLANK\\'\">Anand Louis</a>, <a href=\"/~anand\" target=\"\\'_BLANK\\'\"><img border=\"1\" height=\"100\" hspace=\"0\" src=\"images/faculty-anand.jpg\" vspace=\"0\" width=\"80\"/></a>, <a href=\"/~mnm\" target=\"\\'_BLANK\\'\">M. Narasimha Murty</a>, <a href=\"/~mnm\" target=\"\\'_BLANK\\'\"><img border=\"1\" height=\"100\" hspace=\"0\" src=\"images/faculty-mnm.jpg\" vspace=\"0\" width=\"80\"/></a>, <a href=\"/~hari\" target=\"\\'_BLANK\\'\">Y. Narahari</a>, <a href=\"/~hari\" target=\"\\'_BLANK\\'\"><img border=\"1\" height=\"100\" hspace=\"0\" src=\"images/faculty-hari.jpg\" vspace=\"0\" width=\"80\"/></a>, <a href=\"/~vijayn\" target=\"\\'_BLANK\\'\">Vijay Natarajan</a>, <a href=\"/~vijayn\" target=\"\\'_BLANK\\'\"><img border=\"1\" height=\"100\" hspace=\"0\" src=\"images/faculty-vijayn.jpg\" vspace=\"0\" width=\"80\"/></a>, <a href=\"/~arpita\" target=\"\\'_BLANK\\'\">Arpita Patra</a>, <a href=\"/~arpita\" target=\"\\'_BLANK\\'\"><img border=\"1\" height=\"100\" hspace=\"0\" src=\"images/faculty-arpita.jpg\" vspace=\"0\" width=\"80\"/></a>, <a href=\"/~raghavan\" target=\"\\'_BLANK\\'\">K.V. Raghavan</a>, <a href=\"/~raghavan\" target=\"\\'_BLANK\\'\"><img border=\"1\" height=\"100\" hspace=\"0\" src=\"images/faculty-raghavan.jpg\" vspace=\"0\" width=\"80\"/></a>, <a href=\"/~uday\" target=\"\\'_BLANK\\'\">Uday Kumar Reddy B.</a>, <a href=\"/~uday\" target=\"\\'_BLANK\\'\"><img border=\"1\" height=\"100\" hspace=\"0\" src=\"images/faculty-uday.jpg\" vspace=\"0\" width=\"80\"/></a>, <a href=\"/~chandan\" target=\"\\'_BLANK\\'\">Chandan Saha</a>, <a href=\"/~chandan\" target=\"\\'_BLANK\\'\"><img border=\"1\" height=\"100\" hspace=\"0\" src=\"images/faculty-chandan.jpg\" vspace=\"0\" width=\"80\"/></a>, <a href=\"/~shirish\" target=\"\\'_BLANK\\'\">Shirish K. Shevade</a>, <a href=\"/~shirish\" target=\"\\'_BLANK\\'\"><img border=\"1\" height=\"100\" hspace=\"0\" src=\"images/faculty-shirish.jpg\" vspace=\"0\" width=\"80\"/></a>, <a href=\"http://drona.csa.iisc.ac.in/~srikant\" target=\"\\'_BLANK\\'\">Y.N. Srikant</a>, <a href=\"http://drona.csa.iisc.ac.in/~srikant\" target=\"\\'_BLANK\\'\"><img border=\"1\" height=\"100\" hspace=\"0\" src=\"images/faculty-srikant.jpg\" vspace=\"0\" width=\"80\"/></a>, <a href=\"http://talukdar.net/\" target=\"\\'_BLANK\\'\">Partha Pratim Talukdar</a>, <a href=\"http://talukdar.net/\" target=\"\\'_BLANK\\'\"><img border=\"1\" height=\"100\" hspace=\"0\" src=\"images/faculty-ppt.jpg\" vspace=\"0\" width=\"80\"/></a>, <a href=\"/~mjt\" target=\"\\'_BLANK\\'\">Matthew Jacob Thazhuthaveetil</a>, <a href=\"/~mjt\" target=\"\\'_BLANK\\'\"><img border=\"1\" height=\"100\" hspace=\"0\" src=\"images/faculty-mjt.jpg\" vspace=\"0\" width=\"80\"/></a>, <a href=\"http://www.hariharan-ramesh.com/\" target=\"\\'_BLANK\\'\">Ramesh Hariharan</a>, <a href=\"http://www.hariharan-ramesh.com/\" target=\"\\'_BLANK\\'\"><img border=\"1\" height=\"100\" hspace=\"0\" src=\"images/faculty-ramesh.jpg\" vspace=\"0\" width=\"80\"/></a>, <a href=\"http://research.microsoft.com/~kannan/\" target=\"\\'_BLANK\\'\">Ravi Kannan</a>, <a href=\"http://research.microsoft.com/~kannan/\" target=\"\\'_BLANK\\'\"><img border=\"1\" height=\"100\" hspace=\"0\" src=\"images/faculty-kannan.jpg\" vspace=\"0\" width=\"80\"/></a>, <a href=\"/~nv\" target=\"\\'_BLANK\\'\">N. Viswanadham</a>, <a href=\"/~nv\" target=\"\\'_BLANK\\'\"><img border=\"1\" height=\"100\" hspace=\"0\" src=\"images/faculty-nv.jpg\" vspace=\"0\" width=\"80\"/></a>, <a href=\"people-faculty.php\">Faculty</a>, <a href=\"people-visitors.php\"> Visitors</a>, <a href=\"people-postdoc.php\">Researchers</a>, <a href=\"people-students.php?mode=expandstudents\">Students</a>, <a href=\"people-phd.php\">Ph.D.</a>, <a href=\"people-mtech-research.php\">M.Tech. (Research)</a>, <a href=\"people-mtech-2018.php\">M.Tech. CSE 2018-20</a>, <a href=\"people-mtech-2017.php\">M.Tech. CSE 2017-19</a>, <a href=\"people-me-2016.php\">M.Tech. CSE 2016-18</a>, <a href=\"committee-members.php\">Committee Members</a>, <a href=\"people-staff.php\">Staff</a>, <a href=\"people-former-faculty.php\">Former\n",
      "\t\t\t\tFaculty</a>, <a href=\"people-alumni.php?mode=expandalumni\">Alumni</a>, <a href=\"people-joinus.php?mode=expandjoinus\">Join\n",
      "\t\t\t\tUs </a>, <a href=\"people-search.php\">Search </a>, <a href=\"http://www.csa.iisc.ac.in/contact/contactus-faculty.php\">Faculty\r\n",
      "\t\t\t\t\t\t\t\t\tcontact numbers</a>, <a href=\"/~barman\" target=\"\\'_BLANK\\'\">Siddharth Barman</a>, <a href=\"/~barman\" target=\"\\'_BLANK\\'\"><img border=\"1\" height=\"100\" hspace=\"0\" src=\"images/faculty-barman.jpg\" vspace=\"0\" width=\"80\"/></a>, <a href=\"http://drona.csa.iisc.ac.in/~arkapravab/\" target=\"\\'_BLANK\\'\">Arkaprava Basu</a>, <a href=\"http://drona.csa.iisc.ac.in/~arkapravab/\" target=\"\\'_BLANK\\'\"><img border=\"1\" height=\"100\" hspace=\"0\" src=\"images/faculty-arkapravab.jpg\" vspace=\"0\" width=\"80\"/></a>, <a href=\"/~shalabh\" target=\"\\'_BLANK\\'\">Shalabh Bhatnagar</a>, <a href=\"/~shalabh\" target=\"\\'_BLANK\\'\"><img border=\"1\" height=\"100\" hspace=\"0\" src=\"images/faculty-shalabh.jpg\" vspace=\"0\" width=\"80\"/></a>, <a href=\"http://drona.csa.iisc.ac.in/~arnabb/index.html\" target=\"\\'_BLANK\\'\">Arnab Bhattacharyya</a>, <a href=\"http://drona.csa.iisc.ac.in/~arnabb/index.html\" target=\"\\'_BLANK\\'\"><img border=\"1\" height=\"100\" hspace=\"0\" src=\"images/faculty-arnabb.jpg\" vspace=\"0\" width=\"80\"/></a>, <a href=\"/~chiru\" target=\"\\'_BLANK\\'\">Chiranjib Bhattacharyya</a>, <a href=\"/~chiru\" target=\"\\'_BLANK\\'\"><img border=\"1\" height=\"100\" hspace=\"0\" src=\"images/faculty-chiru.jpg\" vspace=\"0\" width=\"80\"/></a>, <a href=\"/~sunil\" target=\"\\'_BLANK\\'\">L. Sunil Chandran</a>, <a href=\"/~sunil\" target=\"\\'_BLANK\\'\"><img border=\"1\" height=\"100\" hspace=\"0\" src=\"images/faculty-sunil.jpg\" vspace=\"0\" width=\"80\"/></a>, <a href=\"/~sanjit\" target=\"\\'_BLANK\\'\">Sanjit Chatterjee</a>, <a href=\"/~sanjit\" target=\"\\'_BLANK\\'\"><img border=\"1\" height=\"100\" hspace=\"0\" src=\"images/faculty-sanjit.jpg\" vspace=\"0\" width=\"80\"/></a>, <a href=\"/~deepakd\" target=\"\\'_BLANK\\'\"> Deepak D Souza </a>, <a href=\"/~deepakd\" target=\"\\'_BLANK\\'\"><img border=\"1\" height=\"100\" hspace=\"0\" src=\"images/faculty-deepakd.jpg\" vspace=\"0\" width=\"80\"/></a>, <a href=\"http://cns.iisc.ac.in/sridhar\" target=\"\\'_BLANK\\'\"> Sridharan Devarajan </a>, <a href=\"http://cns.iisc.ac.in/sridhar\" target=\"\\'_BLANK\\'\"><img border=\"1\" height=\"100\" hspace=\"0\" src=\"images/faculty-sridhar.jpg\" vspace=\"0\" width=\"80\"/></a>, <a href=\"http://www.csa.iisc.ac.in/~susheela\" target=\"\\'_BLANK\\'\">V. Susheela Devi</a>, <a href=\"http://www.csa.iisc.ac.in/~susheela\" target=\"\\'_BLANK\\'\"><img border=\"1\" height=\"100\" hspace=\"0\" src=\"images/faculty-susheela.jpg\" vspace=\"0\" width=\"80\"/></a>, <a href=\"/~ad\" target=\"\\'_BLANK\\'\"> Ambedkar Dukkipati</a>, <a href=\"/~ad\" target=\"\\'_BLANK\\'\"><img border=\"1\" height=\"100\" hspace=\"0\" src=\"images/faculty-ad.jpg\" vspace=\"0\" width=\"80\"/></a>, <a href=\"http://drona.csa.iisc.ernet.in/~vg/\" target=\"\\'_BLANK\\'\"> Vinod Ganapathy </a>, <a href=\"http://drona.csa.iisc.ernet.in/~vg/\" target=\"\\'_BLANK\\'\"><img border=\"1\" height=\"100\" hspace=\"0\" src=\"images/faculty-vg.jpg\" vspace=\"0\" width=\"80\"/></a>, <a href=\"/~gopi\" target=\"\\'_BLANK\\'\">K. Gopinath</a>, <a href=\"/~gopi\" target=\"\\'_BLANK\\'\"><img border=\"1\" height=\"100\" hspace=\"0\" src=\"images/faculty-gopi.jpg\" vspace=\"0\" width=\"80\"/></a>, <a href=\"/~govind\" target=\"\\'_BLANK\\'\">R. Govindarajan</a>, <a href=\"/~govind\" target=\"\\'_BLANK\\'\"><img border=\"1\" height=\"100\" hspace=\"0\" src=\"images/faculty-govind.jpg\" vspace=\"0\" width=\"80\"/></a>, <a href=\"/~gsat\" target=\"\\'_BLANK\\'\">Sathish Govindarajan </a>, <a href=\"/~gsat\" target=\"\\'_BLANK\\'\"><img border=\"1\" height=\"100\" hspace=\"0\" src=\"images/faculty-gsat.jpg\" vspace=\"0\" width=\"80\"/></a>, <a href=\"http://www.csa.iisc.ac.in/people/people-faculty-hansdah.html\" target=\"\\'_BLANK\\'\">R.C. Hansdah</a>, <a href=\"http://www.csa.iisc.ac.in/people/people-faculty-hansdah.html\" target=\"\\'_BLANK\\'\"><img border=\"1\" height=\"100\" hspace=\"0\" src=\"images/faculty-hansdah.jpg\" vspace=\"0\" width=\"80\"/></a>, <a href=\"http://dsl.serc.iisc.ernet.in/~haritsa/\" target=\"\\'_BLANK\\'\">Jayant R. Haritsa</a>, <a href=\"http://dsl.serc.iisc.ernet.in/~haritsa/\" target=\"\\'_BLANK\\'\"><img border=\"1\" height=\"100\" hspace=\"0\" src=\"images/faculty-haritsa.jpg\" vspace=\"0\" width=\"80\"/></a>, <a href=\"http://www.iisc-seal.net/kanade\" target=\"\\'_BLANK\\'\">Aditya Kanade</a>, <a href=\"http://www.iisc-seal.net/kanade\" target=\"\\'_BLANK\\'\"><img border=\"1\" height=\"100\" hspace=\"0\" src=\"images/faculty-kanade.jpg\" vspace=\"0\" width=\"80\"/></a>, <a href=\"http://www.csa.iisc.ac.in/~bhavana\" target=\"\\'_BLANK\\'\">Bhavana Kanukurthi</a>, <a href=\"http://www.csa.iisc.ac.in/~bhavana\" target=\"\\'_BLANK\\'\"><img border=\"1\" height=\"100\" hspace=\"0\" src=\"images/faculty-bhavana.jpg\" vspace=\"0\" width=\"80\"/></a>, <a href=\"/~anand\" target=\"\\'_BLANK\\'\">Anand Louis</a>, <a href=\"/~anand\" target=\"\\'_BLANK\\'\"><img border=\"1\" height=\"100\" hspace=\"0\" src=\"images/faculty-anand.jpg\" vspace=\"0\" width=\"80\"/></a>, <a href=\"/~mnm\" target=\"\\'_BLANK\\'\">M. Narasimha Murty</a>, <a href=\"/~mnm\" target=\"\\'_BLANK\\'\"><img border=\"1\" height=\"100\" hspace=\"0\" src=\"images/faculty-mnm.jpg\" vspace=\"0\" width=\"80\"/></a>, <a href=\"/~hari\" target=\"\\'_BLANK\\'\">Y. Narahari</a>, <a href=\"/~hari\" target=\"\\'_BLANK\\'\"><img border=\"1\" height=\"100\" hspace=\"0\" src=\"images/faculty-hari.jpg\" vspace=\"0\" width=\"80\"/></a>, <a href=\"/~vijayn\" target=\"\\'_BLANK\\'\">Vijay Natarajan</a>, <a href=\"/~vijayn\" target=\"\\'_BLANK\\'\"><img border=\"1\" height=\"100\" hspace=\"0\" src=\"images/faculty-vijayn.jpg\" vspace=\"0\" width=\"80\"/></a>, <a href=\"/~arpita\" target=\"\\'_BLANK\\'\">Arpita Patra</a>, <a href=\"/~arpita\" target=\"\\'_BLANK\\'\"><img border=\"1\" height=\"100\" hspace=\"0\" src=\"images/faculty-arpita.jpg\" vspace=\"0\" width=\"80\"/></a>, <a href=\"/~raghavan\" target=\"\\'_BLANK\\'\">K.V. Raghavan</a>, <a href=\"/~raghavan\" target=\"\\'_BLANK\\'\"><img border=\"1\" height=\"100\" hspace=\"0\" src=\"images/faculty-raghavan.jpg\" vspace=\"0\" width=\"80\"/></a>, <a href=\"/~uday\" target=\"\\'_BLANK\\'\">Uday Kumar Reddy B.</a>, <a href=\"/~uday\" target=\"\\'_BLANK\\'\"><img border=\"1\" height=\"100\" hspace=\"0\" src=\"images/faculty-uday.jpg\" vspace=\"0\" width=\"80\"/></a>, <a href=\"/~chandan\" target=\"\\'_BLANK\\'\">Chandan Saha</a>, <a href=\"/~chandan\" target=\"\\'_BLANK\\'\"><img border=\"1\" height=\"100\" hspace=\"0\" src=\"images/faculty-chandan.jpg\" vspace=\"0\" width=\"80\"/></a>, <a href=\"/~shirish\" target=\"\\'_BLANK\\'\">Shirish K. Shevade</a>, <a href=\"/~shirish\" target=\"\\'_BLANK\\'\"><img border=\"1\" height=\"100\" hspace=\"0\" src=\"images/faculty-shirish.jpg\" vspace=\"0\" width=\"80\"/></a>, <a href=\"http://drona.csa.iisc.ac.in/~srikant\" target=\"\\'_BLANK\\'\">Y.N. Srikant</a>, <a href=\"http://drona.csa.iisc.ac.in/~srikant\" target=\"\\'_BLANK\\'\"><img border=\"1\" height=\"100\" hspace=\"0\" src=\"images/faculty-srikant.jpg\" vspace=\"0\" width=\"80\"/></a>, <a href=\"http://talukdar.net/\" target=\"\\'_BLANK\\'\">Partha Pratim Talukdar</a>, <a href=\"http://talukdar.net/\" target=\"\\'_BLANK\\'\"><img border=\"1\" height=\"100\" hspace=\"0\" src=\"images/faculty-ppt.jpg\" vspace=\"0\" width=\"80\"/></a>, <a href=\"/~mjt\" target=\"\\'_BLANK\\'\">Matthew Jacob Thazhuthaveetil</a>, <a href=\"/~mjt\" target=\"\\'_BLANK\\'\"><img border=\"1\" height=\"100\" hspace=\"0\" src=\"images/faculty-mjt.jpg\" vspace=\"0\" width=\"80\"/></a>, <a href=\"http://www.hariharan-ramesh.com/\" target=\"\\'_BLANK\\'\">Ramesh Hariharan</a>, <a href=\"http://www.hariharan-ramesh.com/\" target=\"\\'_BLANK\\'\"><img border=\"1\" height=\"100\" hspace=\"0\" src=\"images/faculty-ramesh.jpg\" vspace=\"0\" width=\"80\"/></a>, <a href=\"http://research.microsoft.com/~kannan/\" target=\"\\'_BLANK\\'\">Ravi Kannan</a>, <a href=\"http://research.microsoft.com/~kannan/\" target=\"\\'_BLANK\\'\"><img border=\"1\" height=\"100\" hspace=\"0\" src=\"images/faculty-kannan.jpg\" vspace=\"0\" width=\"80\"/></a>, <a href=\"/~nv\" target=\"\\'_BLANK\\'\">N. Viswanadham</a>, <a href=\"/~nv\" target=\"\\'_BLANK\\'\"><img border=\"1\" height=\"100\" hspace=\"0\" src=\"images/faculty-nv.jpg\" vspace=\"0\" width=\"80\"/></a>, <a href=\"/~barman\" target=\"\\'_BLANK\\'\">Siddharth Barman</a>, <a href=\"/~barman\" target=\"\\'_BLANK\\'\"><img border=\"1\" height=\"100\" hspace=\"0\" src=\"images/faculty-barman.jpg\" vspace=\"0\" width=\"80\"/></a>, <a href=\"http://drona.csa.iisc.ac.in/~arkapravab/\" target=\"\\'_BLANK\\'\">Arkaprava Basu</a>, <a href=\"http://drona.csa.iisc.ac.in/~arkapravab/\" target=\"\\'_BLANK\\'\"><img border=\"1\" height=\"100\" hspace=\"0\" src=\"images/faculty-arkapravab.jpg\" vspace=\"0\" width=\"80\"/></a>, <a href=\"/~shalabh\" target=\"\\'_BLANK\\'\">Shalabh Bhatnagar</a>, <a href=\"/~shalabh\" target=\"\\'_BLANK\\'\"><img border=\"1\" height=\"100\" hspace=\"0\" src=\"images/faculty-shalabh.jpg\" vspace=\"0\" width=\"80\"/></a>, <a href=\"http://drona.csa.iisc.ac.in/~arnabb/index.html\" target=\"\\'_BLANK\\'\">Arnab Bhattacharyya</a>, <a href=\"http://drona.csa.iisc.ac.in/~arnabb/index.html\" target=\"\\'_BLANK\\'\"><img border=\"1\" height=\"100\" hspace=\"0\" src=\"images/faculty-arnabb.jpg\" vspace=\"0\" width=\"80\"/></a>, <a href=\"/~chiru\" target=\"\\'_BLANK\\'\">Chiranjib Bhattacharyya</a>, <a href=\"/~chiru\" target=\"\\'_BLANK\\'\"><img border=\"1\" height=\"100\" hspace=\"0\" src=\"images/faculty-chiru.jpg\" vspace=\"0\" width=\"80\"/></a>, <a href=\"/~sunil\" target=\"\\'_BLANK\\'\">L. Sunil Chandran</a>, <a href=\"/~sunil\" target=\"\\'_BLANK\\'\"><img border=\"1\" height=\"100\" hspace=\"0\" src=\"images/faculty-sunil.jpg\" vspace=\"0\" width=\"80\"/></a>, <a href=\"/~sanjit\" target=\"\\'_BLANK\\'\">Sanjit Chatterjee</a>, <a href=\"/~sanjit\" target=\"\\'_BLANK\\'\"><img border=\"1\" height=\"100\" hspace=\"0\" src=\"images/faculty-sanjit.jpg\" vspace=\"0\" width=\"80\"/></a>, <a href=\"/~deepakd\" target=\"\\'_BLANK\\'\"> Deepak D Souza </a>, <a href=\"/~deepakd\" target=\"\\'_BLANK\\'\"><img border=\"1\" height=\"100\" hspace=\"0\" src=\"images/faculty-deepakd.jpg\" vspace=\"0\" width=\"80\"/></a>, <a href=\"http://cns.iisc.ac.in/sridhar\" target=\"\\'_BLANK\\'\"> Sridharan Devarajan </a>, <a href=\"http://cns.iisc.ac.in/sridhar\" target=\"\\'_BLANK\\'\"><img border=\"1\" height=\"100\" hspace=\"0\" src=\"images/faculty-sridhar.jpg\" vspace=\"0\" width=\"80\"/></a>, <a href=\"http://www.csa.iisc.ac.in/~susheela\" target=\"\\'_BLANK\\'\">V. Susheela Devi</a>, <a href=\"http://www.csa.iisc.ac.in/~susheela\" target=\"\\'_BLANK\\'\"><img border=\"1\" height=\"100\" hspace=\"0\" src=\"images/faculty-susheela.jpg\" vspace=\"0\" width=\"80\"/></a>, <a href=\"/~ad\" target=\"\\'_BLANK\\'\"> Ambedkar Dukkipati</a>, <a href=\"/~ad\" target=\"\\'_BLANK\\'\"><img border=\"1\" height=\"100\" hspace=\"0\" src=\"images/faculty-ad.jpg\" vspace=\"0\" width=\"80\"/></a>, <a href=\"http://drona.csa.iisc.ernet.in/~vg/\" target=\"\\'_BLANK\\'\"> Vinod Ganapathy </a>, <a href=\"http://drona.csa.iisc.ernet.in/~vg/\" target=\"\\'_BLANK\\'\"><img border=\"1\" height=\"100\" hspace=\"0\" src=\"images/faculty-vg.jpg\" vspace=\"0\" width=\"80\"/></a>, <a href=\"/~gopi\" target=\"\\'_BLANK\\'\">K. Gopinath</a>, <a href=\"/~gopi\" target=\"\\'_BLANK\\'\"><img border=\"1\" height=\"100\" hspace=\"0\" src=\"images/faculty-gopi.jpg\" vspace=\"0\" width=\"80\"/></a>, <a href=\"/~govind\" target=\"\\'_BLANK\\'\">R. Govindarajan</a>, <a href=\"/~govind\" target=\"\\'_BLANK\\'\"><img border=\"1\" height=\"100\" hspace=\"0\" src=\"images/faculty-govind.jpg\" vspace=\"0\" width=\"80\"/></a>, <a href=\"/~gsat\" target=\"\\'_BLANK\\'\">Sathish Govindarajan </a>, <a href=\"/~gsat\" target=\"\\'_BLANK\\'\"><img border=\"1\" height=\"100\" hspace=\"0\" src=\"images/faculty-gsat.jpg\" vspace=\"0\" width=\"80\"/></a>, <a href=\"http://www.csa.iisc.ac.in/people/people-faculty-hansdah.html\" target=\"\\'_BLANK\\'\">R.C. Hansdah</a>, <a href=\"http://www.csa.iisc.ac.in/people/people-faculty-hansdah.html\" target=\"\\'_BLANK\\'\"><img border=\"1\" height=\"100\" hspace=\"0\" src=\"images/faculty-hansdah.jpg\" vspace=\"0\" width=\"80\"/></a>, <a href=\"http://dsl.serc.iisc.ernet.in/~haritsa/\" target=\"\\'_BLANK\\'\">Jayant R. Haritsa</a>, <a href=\"http://dsl.serc.iisc.ernet.in/~haritsa/\" target=\"\\'_BLANK\\'\"><img border=\"1\" height=\"100\" hspace=\"0\" src=\"images/faculty-haritsa.jpg\" vspace=\"0\" width=\"80\"/></a>, <a href=\"http://www.iisc-seal.net/kanade\" target=\"\\'_BLANK\\'\">Aditya Kanade</a>, <a href=\"http://www.iisc-seal.net/kanade\" target=\"\\'_BLANK\\'\"><img border=\"1\" height=\"100\" hspace=\"0\" src=\"images/faculty-kanade.jpg\" vspace=\"0\" width=\"80\"/></a>, <a href=\"http://www.csa.iisc.ac.in/~bhavana\" target=\"\\'_BLANK\\'\">Bhavana Kanukurthi</a>, <a href=\"http://www.csa.iisc.ac.in/~bhavana\" target=\"\\'_BLANK\\'\"><img border=\"1\" height=\"100\" hspace=\"0\" src=\"images/faculty-bhavana.jpg\" vspace=\"0\" width=\"80\"/></a>, <a href=\"/~anand\" target=\"\\'_BLANK\\'\">Anand Louis</a>, <a href=\"/~anand\" target=\"\\'_BLANK\\'\"><img border=\"1\" height=\"100\" hspace=\"0\" src=\"images/faculty-anand.jpg\" vspace=\"0\" width=\"80\"/></a>, <a href=\"/~mnm\" target=\"\\'_BLANK\\'\">M. Narasimha Murty</a>, <a href=\"/~mnm\" target=\"\\'_BLANK\\'\"><img border=\"1\" height=\"100\" hspace=\"0\" src=\"images/faculty-mnm.jpg\" vspace=\"0\" width=\"80\"/></a>, <a href=\"/~hari\" target=\"\\'_BLANK\\'\">Y. Narahari</a>, <a href=\"/~hari\" target=\"\\'_BLANK\\'\"><img border=\"1\" height=\"100\" hspace=\"0\" src=\"images/faculty-hari.jpg\" vspace=\"0\" width=\"80\"/></a>, <a href=\"/~vijayn\" target=\"\\'_BLANK\\'\">Vijay Natarajan</a>, <a href=\"/~vijayn\" target=\"\\'_BLANK\\'\"><img border=\"1\" height=\"100\" hspace=\"0\" src=\"images/faculty-vijayn.jpg\" vspace=\"0\" width=\"80\"/></a>, <a href=\"/~arpita\" target=\"\\'_BLANK\\'\">Arpita Patra</a>, <a href=\"/~arpita\" target=\"\\'_BLANK\\'\"><img border=\"1\" height=\"100\" hspace=\"0\" src=\"images/faculty-arpita.jpg\" vspace=\"0\" width=\"80\"/></a>, <a href=\"/~raghavan\" target=\"\\'_BLANK\\'\">K.V. Raghavan</a>, <a href=\"/~raghavan\" target=\"\\'_BLANK\\'\"><img border=\"1\" height=\"100\" hspace=\"0\" src=\"images/faculty-raghavan.jpg\" vspace=\"0\" width=\"80\"/></a>, <a href=\"/~uday\" target=\"\\'_BLANK\\'\">Uday Kumar Reddy B.</a>, <a href=\"/~uday\" target=\"\\'_BLANK\\'\"><img border=\"1\" height=\"100\" hspace=\"0\" src=\"images/faculty-uday.jpg\" vspace=\"0\" width=\"80\"/></a>, <a href=\"/~chandan\" target=\"\\'_BLANK\\'\">Chandan Saha</a>, <a href=\"/~chandan\" target=\"\\'_BLANK\\'\"><img border=\"1\" height=\"100\" hspace=\"0\" src=\"images/faculty-chandan.jpg\" vspace=\"0\" width=\"80\"/></a>, <a href=\"/~shirish\" target=\"\\'_BLANK\\'\">Shirish K. Shevade</a>, <a href=\"/~shirish\" target=\"\\'_BLANK\\'\"><img border=\"1\" height=\"100\" hspace=\"0\" src=\"images/faculty-shirish.jpg\" vspace=\"0\" width=\"80\"/></a>, <a href=\"http://drona.csa.iisc.ac.in/~srikant\" target=\"\\'_BLANK\\'\">Y.N. Srikant</a>, <a href=\"http://drona.csa.iisc.ac.in/~srikant\" target=\"\\'_BLANK\\'\"><img border=\"1\" height=\"100\" hspace=\"0\" src=\"images/faculty-srikant.jpg\" vspace=\"0\" width=\"80\"/></a>, <a href=\"http://talukdar.net/\" target=\"\\'_BLANK\\'\">Partha Pratim Talukdar</a>, <a href=\"http://talukdar.net/\" target=\"\\'_BLANK\\'\"><img border=\"1\" height=\"100\" hspace=\"0\" src=\"images/faculty-ppt.jpg\" vspace=\"0\" width=\"80\"/></a>, <a href=\"/~mjt\" target=\"\\'_BLANK\\'\">Matthew Jacob Thazhuthaveetil</a>, <a href=\"/~mjt\" target=\"\\'_BLANK\\'\"><img border=\"1\" height=\"100\" hspace=\"0\" src=\"images/faculty-mjt.jpg\" vspace=\"0\" width=\"80\"/></a>, <a href=\"http://www.hariharan-ramesh.com/\" target=\"\\'_BLANK\\'\">Ramesh Hariharan</a>, <a href=\"http://www.hariharan-ramesh.com/\" target=\"\\'_BLANK\\'\"><img border=\"1\" height=\"100\" hspace=\"0\" src=\"images/faculty-ramesh.jpg\" vspace=\"0\" width=\"80\"/></a>, <a href=\"http://research.microsoft.com/~kannan/\" target=\"\\'_BLANK\\'\">Ravi Kannan</a>, <a href=\"http://research.microsoft.com/~kannan/\" target=\"\\'_BLANK\\'\"><img border=\"1\" height=\"100\" hspace=\"0\" src=\"images/faculty-kannan.jpg\" vspace=\"0\" width=\"80\"/></a>, <a href=\"/~nv\" target=\"\\'_BLANK\\'\">N. Viswanadham</a>, <a href=\"/~nv\" target=\"\\'_BLANK\\'\"><img border=\"1\" height=\"100\" hspace=\"0\" src=\"images/faculty-nv.jpg\" vspace=\"0\" width=\"80\"/></a>, <a href=\"https://csatravelblog.wordpress.com/\" target=\"_blank\">Travel Blog</a>, <a href=\"/contact/contactus-feedback.php\">Feedback</a>, <a href=\"/contact/credits.php\">Credits</a>]\n"
     ]
    }
   ],
   "source": [
    "prolist = []\n",
    "for row in allrows:\n",
    "  rowtd = row.find_all('a')\n",
    "  prolist.extend(rowtd)\n",
    "  \n",
    "print(prolist)"
   ]
  },
  {
   "cell_type": "code",
   "execution_count": 107,
   "metadata": {
    "colab": {
     "base_uri": "https://localhost:8080/",
     "height": 156
    },
    "colab_type": "code",
    "executionInfo": {
     "elapsed": 1431,
     "status": "ok",
     "timestamp": 1536317411521,
     "user": {
      "displayName": "Swamy Sriharsha",
      "photoUrl": "//lh4.googleusercontent.com/-9Fgow919ry4/AAAAAAAAAAI/AAAAAAAADrY/V0mtUrANlBQ/s50-c-k-no/photo.jpg",
      "userId": "101573941070641181625"
     },
     "user_tz": -330
    },
    "id": "KZO0-0gUZkfo",
    "outputId": "ccead9c4-2ad1-499d-ad51-93a5b48c4788"
   },
   "outputs": [
    {
     "name": "stdout",
     "output_type": "stream",
     "text": [
      "[, , HOME, ABOUT US , PEOPLE, RESEARCH, ACADEMICS, FACILITIES, EVENTS / SEMINARS, NEWS, CONTACT US, HOME, ABOUT US , PEOPLE, RESEARCH, ACADEMICS, FACILITIES, EVENTS / SEMINARS, NEWS, CONTACT US, Faculty,  Visitors, Researchers, Students, Ph.D., M.Tech. (Research), M.Tech. CSE 2018-20, M.Tech. CSE 2017-19, M.Tech. CSE 2016-18, Committee Members, Staff, Former\n",
      "\t\t\t\tFaculty, Alumni, Join\n",
      "\t\t\t\tUs , Search , Faculty\r\n",
      "\t\t\t\t\t\t\t\t\tcontact numbers, Siddharth Barman, , Arkaprava Basu, , Shalabh Bhatnagar, , Arnab Bhattacharyya, , Chiranjib Bhattacharyya, , L. Sunil Chandran, , Sanjit Chatterjee, ,  Deepak D Souza , ,  Sridharan Devarajan , , V. Susheela Devi, ,  Ambedkar Dukkipati, ,  Vinod Ganapathy , , K. Gopinath, , R. Govindarajan, , Sathish Govindarajan , , R.C. Hansdah, , Jayant R. Haritsa, , Aditya Kanade, , Bhavana Kanukurthi, , Anand Louis, , M. Narasimha Murty, , Y. Narahari, , Vijay Natarajan, , Arpita Patra, , K.V. Raghavan, , Uday Kumar Reddy B., , Chandan Saha, , Shirish K. Shevade, , Y.N. Srikant, , Partha Pratim Talukdar, , Matthew Jacob Thazhuthaveetil, , Ramesh Hariharan, , Ravi Kannan, , N. Viswanadham, , Faculty,  Visitors, Researchers, Students, Ph.D., M.Tech. (Research), M.Tech. CSE 2018-20, M.Tech. CSE 2017-19, M.Tech. CSE 2016-18, Committee Members, Staff, Former\n",
      "\t\t\t\tFaculty, Alumni, Join\n",
      "\t\t\t\tUs , Search , Faculty\r\n",
      "\t\t\t\t\t\t\t\t\tcontact numbers, Siddharth Barman, , Arkaprava Basu, , Shalabh Bhatnagar, , Arnab Bhattacharyya, , Chiranjib Bhattacharyya, , L. Sunil Chandran, , Sanjit Chatterjee, ,  Deepak D Souza , ,  Sridharan Devarajan , , V. Susheela Devi, ,  Ambedkar Dukkipati, ,  Vinod Ganapathy , , K. Gopinath, , R. Govindarajan, , Sathish Govindarajan , , R.C. Hansdah, , Jayant R. Haritsa, , Aditya Kanade, , Bhavana Kanukurthi, , Anand Louis, , M. Narasimha Murty, , Y. Narahari, , Vijay Natarajan, , Arpita Patra, , K.V. Raghavan, , Uday Kumar Reddy B., , Chandan Saha, , Shirish K. Shevade, , Y.N. Srikant, , Partha Pratim Talukdar, , Matthew Jacob Thazhuthaveetil, , Ramesh Hariharan, , Ravi Kannan, , N. Viswanadham, , Siddharth Barman, , Arkaprava Basu, , Shalabh Bhatnagar, , Arnab Bhattacharyya, , Chiranjib Bhattacharyya, , L. Sunil Chandran, , Sanjit Chatterjee, ,  Deepak D Souza , ,  Sridharan Devarajan , , V. Susheela Devi, ,  Ambedkar Dukkipati, ,  Vinod Ganapathy , , K. Gopinath, , R. Govindarajan, , Sathish Govindarajan , , R.C. Hansdah, , Jayant R. Haritsa, , Aditya Kanade, , Bhavana Kanukurthi, , Anand Louis, , M. Narasimha Murty, , Y. Narahari, , Vijay Natarajan, , Arpita Patra, , K.V. Raghavan, , Uday Kumar Reddy B., , Chandan Saha, , Shirish K. Shevade, , Y.N. Srikant, , Partha Pratim Talukdar, , Matthew Jacob Thazhuthaveetil, , Ramesh Hariharan, , Ravi Kannan, , N. Viswanadham, , Travel Blog, Feedback, Credits]\n"
     ]
    }
   ],
   "source": [
    "prostr = str(prolist)\n",
    "\n",
    "cleantext2 = BeautifulSoup(prostr, \"html.parser\").get_text()\n",
    "\n",
    "print(cleantext2)"
   ]
  },
  {
   "cell_type": "code",
   "execution_count": 56,
   "metadata": {
    "colab": {
     "base_uri": "https://localhost:8080/",
     "height": 54
    },
    "colab_type": "code",
    "executionInfo": {
     "elapsed": 1401,
     "status": "ok",
     "timestamp": 1536314878036,
     "user": {
      "displayName": "Swamy Sriharsha",
      "photoUrl": "//lh4.googleusercontent.com/-9Fgow919ry4/AAAAAAAAAAI/AAAAAAAADrY/V0mtUrANlBQ/s50-c-k-no/photo.jpg",
      "userId": "101573941070641181625"
     },
     "user_tz": -330
    },
    "id": "2fL6t1vMafPf",
    "outputId": "3215bd2a-d138-4c87-90e3-591c5c9f3519"
   },
   "outputs": [
    {
     "name": "stdout",
     "output_type": "stream",
     "text": [
      "['http://www.csa.iisc.ac.in/', 'http://www.iisc.ac.in/', '../index.php', '../aboutus/aboutus.php', '../people/people-faculty.php', '../research/research.php', '../academics/academics.php', '../facilities/facilities-computing.php', '../sem-evts/seminars.php', '../news/news.php', '../contact/contactus.php', 'people-faculty.php', 'people-visitors.php', 'people-postdoc.php', 'people-students.php?mode=expandstudents', 'people-phd.php', 'people-mtech-research.php', 'people-mtech-2018.php', 'people-mtech-2017.php', 'people-me-2016.php', 'committee-members.php', 'people-staff.php', 'people-former-faculty.php', 'people-alumni.php?mode=expandalumni', 'people-joinus.php?mode=expandjoinus', 'people-search.php', 'http://www.csa.iisc.ac.in/contact/contactus-faculty.php', '/~barman', '/~barman', 'http://drona.csa.iisc.ac.in/~arkapravab/', 'http://drona.csa.iisc.ac.in/~arkapravab/', '/~shalabh', '/~shalabh', 'http://drona.csa.iisc.ac.in/~arnabb/index.html', 'http://drona.csa.iisc.ac.in/~arnabb/index.html', '/~chiru', '/~chiru', '/~sunil', '/~sunil', '/~sanjit', '/~sanjit', '/~deepakd', '/~deepakd', 'http://cns.iisc.ac.in/sridhar', 'http://cns.iisc.ac.in/sridhar', 'http://www.csa.iisc.ac.in/~susheela', 'http://www.csa.iisc.ac.in/~susheela', '/~ad', '/~ad', 'http://drona.csa.iisc.ernet.in/~vg/', 'http://drona.csa.iisc.ernet.in/~vg/', '/~gopi', '/~gopi', '/~govind', '/~govind', '/~gsat', '/~gsat', 'http://www.csa.iisc.ac.in/people/people-faculty-hansdah.html', 'http://www.csa.iisc.ac.in/people/people-faculty-hansdah.html', 'http://dsl.serc.iisc.ernet.in/~haritsa/', 'http://dsl.serc.iisc.ernet.in/~haritsa/', 'http://www.iisc-seal.net/kanade', 'http://www.iisc-seal.net/kanade', 'http://www.csa.iisc.ac.in/~bhavana', 'http://www.csa.iisc.ac.in/~bhavana', '/~anand', '/~anand', '/~mnm', '/~mnm', '/~hari', '/~hari', '/~vijayn', '/~vijayn', '/~arpita', '/~arpita', '/~raghavan', '/~raghavan', '/~uday', '/~uday', '/~chandan', '/~chandan', '/~shirish', '/~shirish', 'http://drona.csa.iisc.ac.in/~srikant', 'http://drona.csa.iisc.ac.in/~srikant', 'http://talukdar.net/', 'http://talukdar.net/', '/~mjt', '/~mjt', 'http://www.hariharan-ramesh.com/', 'http://www.hariharan-ramesh.com/', 'http://research.microsoft.com/~kannan/', 'http://research.microsoft.com/~kannan/', '/~nv', '/~nv', 'https://csatravelblog.wordpress.com/', '/contact/contactus-feedback.php', '/contact/credits.php']\n"
     ]
    }
   ],
   "source": [
    "anchors = soup2.find_all(\"a\")\n",
    "\n",
    "alist = []\n",
    "for link in anchors:\n",
    "  li = link.get(\"href\")\n",
    "  alist.append(li)\n",
    "  \n",
    "print(alist)"
   ]
  },
  {
   "cell_type": "markdown",
   "metadata": {
    "colab_type": "text",
    "id": "UxBziTesgrPz"
   },
   "source": [
    "# Later I have taken the webpage of quora discussion on mobile numbers"
   ]
  },
  {
   "cell_type": "code",
   "execution_count": 60,
   "metadata": {
    "colab": {
     "base_uri": "https://localhost:8080/",
     "height": 34
    },
    "colab_type": "code",
    "executionInfo": {
     "elapsed": 3351,
     "status": "ok",
     "timestamp": 1536315415980,
     "user": {
      "displayName": "Swamy Sriharsha",
      "photoUrl": "//lh4.googleusercontent.com/-9Fgow919ry4/AAAAAAAAAAI/AAAAAAAADrY/V0mtUrANlBQ/s50-c-k-no/photo.jpg",
      "userId": "101573941070641181625"
     },
     "user_tz": -330
    },
    "id": "KIyOyWqkhcpz",
    "outputId": "45457f9e-abc0-4614-cfde-493d93fed7c0"
   },
   "outputs": [
    {
     "data": {
      "text/plain": [
       "bs4.BeautifulSoup"
      ]
     },
     "execution_count": 60,
     "metadata": {
      "tags": []
     },
     "output_type": "execute_result"
    }
   ],
   "source": [
    "url3 = \"https://www.quora.com/How-do-you-write-an-Indian-phone-number-in-international-format\" #this is the link for the above mentioned article\n",
    "\n",
    "htmldata3 = urlopen(url3) #to get the html of the page\n",
    "\n",
    "soup3 = BeautifulSoup(htmldata3, 'html.parser') #creating a beautifulSoup object\n",
    "\n",
    "type(soup3)"
   ]
  },
  {
   "cell_type": "code",
   "execution_count": 61,
   "metadata": {
    "colab": {
     "base_uri": "https://localhost:8080/",
     "height": 34
    },
    "colab_type": "code",
    "executionInfo": {
     "elapsed": 1362,
     "status": "ok",
     "timestamp": 1536315418575,
     "user": {
      "displayName": "Swamy Sriharsha",
      "photoUrl": "//lh4.googleusercontent.com/-9Fgow919ry4/AAAAAAAAAAI/AAAAAAAADrY/V0mtUrANlBQ/s50-c-k-no/photo.jpg",
      "userId": "101573941070641181625"
     },
     "user_tz": -330
    },
    "id": "hb3XZYmfhqUa",
    "outputId": "bec05814-85cd-41ca-d04a-21af8f4d8d9b"
   },
   "outputs": [
    {
     "data": {
      "text/plain": [
       "<title>How to write an Indian phone number in international format - Quora</title>"
      ]
     },
     "execution_count": 61,
     "metadata": {
      "tags": []
     },
     "output_type": "execute_result"
    }
   ],
   "source": [
    "soup3.title"
   ]
  },
  {
   "cell_type": "code",
   "execution_count": 74,
   "metadata": {
    "colab": {
     "base_uri": "https://localhost:8080/",
     "height": 122
    },
    "colab_type": "code",
    "executionInfo": {
     "elapsed": 1500,
     "status": "ok",
     "timestamp": 1536315774508,
     "user": {
      "displayName": "Swamy Sriharsha",
      "photoUrl": "//lh4.googleusercontent.com/-9Fgow919ry4/AAAAAAAAAAI/AAAAAAAADrY/V0mtUrANlBQ/s50-c-k-no/photo.jpg",
      "userId": "101573941070641181625"
     },
     "user_tz": -330
    },
    "id": "dRCKHdyhhtfr",
    "outputId": "852b93d7-0848-4788-fbec-616f70008c8d"
   },
   "outputs": [
    {
     "data": {
      "text/plain": [
       "[<p class=\"ask_interstitial_content\"><strong class=\"ask_interstitial_title\" id=\"__w2_aE8vqQU_interstitial_title\"></strong><span id=\"__w2_aE8vqQU_interstitial_text\"></span></p>,\n",
       " <p class=\"ui_qtext_para\">According to the National numbering plan, the 10 digit number is written in a XXXX-NNNNNN fashion where XXXX-NNNNNN indicates the network operator and telecom circle, and NNNNNN is the subscriber number.</p>,\n",
       " <p class=\"ui_qtext_para\">The convention for writing international numbers is to use</p>,\n",
       " <p class=\"ui_qtext_para\">So; 3456–7890 in Delhi would be written as +91 11 3456–7890</p>,\n",
       " <p class=\"ui_qtext_para\">It is acceptable to include a national trunk access prefix, in brackets, before the area code:</p>]"
      ]
     },
     "execution_count": 74,
     "metadata": {
      "tags": []
     },
     "output_type": "execute_result"
    }
   ],
   "source": [
    "mobnums = soup3.find_all(\"p\")\n",
    "\n",
    "mobnums[:5]"
   ]
  },
  {
   "cell_type": "code",
   "execution_count": 69,
   "metadata": {
    "colab": {
     "base_uri": "https://localhost:8080/",
     "height": 54
    },
    "colab_type": "code",
    "executionInfo": {
     "elapsed": 1365,
     "status": "ok",
     "timestamp": 1536315652100,
     "user": {
      "displayName": "Swamy Sriharsha",
      "photoUrl": "//lh4.googleusercontent.com/-9Fgow919ry4/AAAAAAAAAAI/AAAAAAAADrY/V0mtUrANlBQ/s50-c-k-no/photo.jpg",
      "userId": "101573941070641181625"
     },
     "user_tz": -330
    },
    "id": "h9Zc8w62iuUp",
    "outputId": "e9244b70-331e-4b18-bdf9-451b520c0aed"
   },
   "outputs": [
    {
     "name": "stdout",
     "output_type": "stream",
     "text": [
      "[, According to the National numbering plan, the 10 digit number is written in a XXXX-NNNNNN fashion where XXXX-NNNNNN indicates the network operator and telecom circle, and NNNNNN is the subscriber number., The convention for writing international numbers is to use, So; 3456–7890 in Delhi would be written as +91 11 3456–7890, It is acceptable to include a national trunk access prefix, in brackets, before the area code:, eg: +91 (0)11 3456–7890, No point trying to fit something into a format that doesn't fit., The international format of (country code)(area code) (phone number) is for fixedline phones not for mobiles. And how many digits to go into each segment isn't a standard or rule at all. US and Canada have one digit for country code, most European countries have two digits, etc., One.. During the age of fixedline phones in the US and the west, i assume, people remembered phone numbers in a specific way,(giving gaps at 3–4 digits etc). When mobile companies entered, they tried to continue that habit so that's it's easy to remember a mobile number as well, or, simply, for the comfort of familiarity., Also, the old area code separation was necessary because, within​ the area, you need not use the area code. For mobiles, this is no longer relevant. You need the complete 10digits and, people remember the way it's easy for them, or just leave it to the phone book., Still have a question? Ask your own!]\n"
     ]
    }
   ],
   "source": [
    "strmob = str(mobnums)\n",
    "\n",
    "cleantext4 = BeautifulSoup(strmob, \"html.parser\").get_text()\n",
    "\n",
    "print(cleantext4)\n"
   ]
  },
  {
   "cell_type": "code",
   "execution_count": 73,
   "metadata": {
    "colab": {
     "base_uri": "https://localhost:8080/",
     "height": 122
    },
    "colab_type": "code",
    "executionInfo": {
     "elapsed": 1205,
     "status": "ok",
     "timestamp": 1536315765948,
     "user": {
      "displayName": "Swamy Sriharsha",
      "photoUrl": "//lh4.googleusercontent.com/-9Fgow919ry4/AAAAAAAAAAI/AAAAAAAADrY/V0mtUrANlBQ/s50-c-k-no/photo.jpg",
      "userId": "101573941070641181625"
     },
     "user_tz": -330
    },
    "id": "C-3ZwPlPjJTZ",
    "outputId": "d2a2fe69-d0a7-466f-c77d-350dc497dd7e"
   },
   "outputs": [
    {
     "data": {
      "text/plain": [
       "[<li class=\"related_question\"><div data-clog-event-type=\"ActionLogImpression\" data-clog-metadata='{\"action_log_target\": {\"type\": 21, \"hash\": \"related_questions|10763040|-1187452786\"}}' data-clog-trigger=\"impression\" id=\"__w2_Gpjy83i_actionable\"><div id=\"heGsmC\"><a action_mousedown=\"QuestionLinkClickthrough\" class=\"question_link\" href=\"/How-do-you-write-a-mobile-number-in-Indias-international-format\" id=\"__w2_VXPvzri_link\" rel=\"noopener\" target=\"_blank\"><span class=\"ui_story_title \"><span class=\"ui_qtext_rendered_qtext\">How do you write a mobile number in India's international format?</span></span></a></div></div></li>,\n",
       " <li class=\"related_question\"><div data-clog-event-type=\"ActionLogImpression\" data-clog-metadata='{\"action_log_target\": {\"type\": 21, \"hash\": \"related_questions|8007457|-1187452786\"}}' data-clog-trigger=\"impression\" id=\"__w2_nlKPd3b_actionable\"><div id=\"SmeDeA\"><a action_mousedown=\"QuestionLinkClickthrough\" class=\"question_link\" href=\"/unanswered/What-is-the-correct-format-of-an-Indian-phone-number-for-use-in-US-applications\" id=\"__w2_WQKCOCQ_link\" rel=\"noopener\" target=\"_blank\"><span class=\"ui_story_title \"><span class=\"ui_qtext_rendered_qtext\">What is the correct format of an Indian phone number for use in US applications?</span></span></a></div></div></li>,\n",
       " <li class=\"related_question\"><div data-clog-event-type=\"ActionLogImpression\" data-clog-metadata='{\"action_log_target\": {\"type\": 21, \"hash\": \"related_questions|7729319|-1187452786\"}}' data-clog-trigger=\"impression\" id=\"__w2_bVYyQG0_actionable\"><div id=\"moAOOC\"><a action_mousedown=\"QuestionLinkClickthrough\" class=\"question_link\" href=\"/How-do-you-enter-a-phone-number-in-international-format\" id=\"__w2_f6bURTE_link\" rel=\"noopener\" target=\"_blank\"><span class=\"ui_story_title \"><span class=\"ui_qtext_rendered_qtext\">How do you enter a phone number in international format?</span></span></a></div></div></li>,\n",
       " <li class=\"related_question\"><div data-clog-event-type=\"ActionLogImpression\" data-clog-metadata='{\"action_log_target\": {\"type\": 21, \"hash\": \"related_questions|5231378|-1187452786\"}}' data-clog-trigger=\"impression\" id=\"__w2_UDVtpuy_actionable\"><div id=\"HJkpqf\"><a action_mousedown=\"QuestionLinkClickthrough\" class=\"question_link\" href=\"/How-do-you-write-a-U-S-number-in-international-format\" id=\"__w2_pFTDbpM_link\" rel=\"noopener\" target=\"_blank\"><span class=\"ui_story_title \"><span class=\"ui_qtext_rendered_qtext\">How do you write a U.S. number in international format?</span></span></a></div></div></li>,\n",
       " <li class=\"related_question\"><div data-clog-event-type=\"ActionLogImpression\" data-clog-metadata='{\"action_log_target\": {\"type\": 21, \"hash\": \"related_questions|4385005|-1187452786\"}}' data-clog-trigger=\"impression\" id=\"__w2_Bk9gnQS_actionable\"><div id=\"cnITTH\"><a action_mousedown=\"QuestionLinkClickthrough\" class=\"question_link\" href=\"/What-is-the-international-format-for-phone-numbers\" id=\"__w2_kNFqxbA_link\" rel=\"noopener\" target=\"_blank\"><span class=\"ui_story_title \"><span class=\"ui_qtext_rendered_qtext\">What is the international format for phone numbers?</span></span></a></div></div></li>]"
      ]
     },
     "execution_count": 73,
     "metadata": {
      "tags": []
     },
     "output_type": "execute_result"
    }
   ],
   "source": [
    "mobnums2 = soup3.find_all(\"li\")\n",
    "\n",
    "mobnums2[:5]"
   ]
  },
  {
   "cell_type": "code",
   "execution_count": 72,
   "metadata": {
    "colab": {
     "base_uri": "https://localhost:8080/",
     "height": 54
    },
    "colab_type": "code",
    "executionInfo": {
     "elapsed": 1403,
     "status": "ok",
     "timestamp": 1536315752564,
     "user": {
      "displayName": "Swamy Sriharsha",
      "photoUrl": "//lh4.googleusercontent.com/-9Fgow919ry4/AAAAAAAAAAI/AAAAAAAADrY/V0mtUrANlBQ/s50-c-k-no/photo.jpg",
      "userId": "101573941070641181625"
     },
     "user_tz": -330
    },
    "id": "RNE5ZzgPjQxJ",
    "outputId": "60a37c8f-3237-41c4-b144-4c65c35423d7"
   },
   "outputs": [
    {
     "name": "stdout",
     "output_type": "stream",
     "text": [
      "[How do you write a mobile number in India's international format?, What is the correct format of an Indian phone number for use in US applications?, How do you enter a phone number in international format?, How do you write a U.S. number in international format?, What is the international format for phone numbers?, Mobile phones, +91 9876543210, + (ISD Code) (10 digit number), Land line under telephone exchanges with 8 digit numbering plan, +91 11 12345678, + (ISD Code) (2 digit area code) (8 digit number), Land line under telephone exchanges with 7 digit numbering plan, +91 222 1234567, + (ISD Code) (3 digit area code) (7 digit number), Land line under telephone exchanges with 6 digit numbering plan, +91 3333 123456, + (ISD Code) (4 digit area code) (6 digit number), international indicator ( a plus symbol) followed by, country code [space], area or mobile network code [space], handset number, What is the best way to write an internal phone number?, How can I reach Uber customer service? Do they have a phone number?, What is my phone number in international form?, How do you write a mobile number in Australian international format?, How do I add a phone number format in Numbers 3 for Mac?, How do I get an Indian phone number for free?, How will Indians enter their phone number?, What is a smart international phone number?, How can I divert phone calls from an Indian local number to an international number (US)?, How can I find out my international phone number?, What is Therealninjaboy's phone number?, How do I block an international phone number?, How hard is it to hack someone's cell phone if you just know their phone number?, How can I get a virtual Indian phone number?, Who phones this number 0810187444?, How do you write a mobile number in India's international format?, What is the correct format of an Indian phone number for use in US applications?, How do you enter a phone number in international format?, How do you write a U.S. number in international format?, What is the international format for phone numbers?, What is the best way to write an internal phone number?, How can I reach Uber customer service? Do they have a phone number?, What is my phone number in international form?, How do you write a mobile number in Australian international format?, How do I add a phone number format in Numbers 3 for Mac?]\n"
     ]
    }
   ],
   "source": [
    "strmob2 = str(mobnums2)\n",
    "\n",
    "cleantext5 = BeautifulSoup(strmob2, \"html.parser\").get_text()\n",
    "\n",
    "print(cleantext5)"
   ]
  },
  {
   "cell_type": "markdown",
   "metadata": {
    "colab_type": "text",
    "id": "6eeKH1t3k81I"
   },
   "source": [
    "# Later I have taken the webpage of ww.balance.com which consists of currencies\n"
   ]
  },
  {
   "cell_type": "code",
   "execution_count": 75,
   "metadata": {
    "colab": {
     "base_uri": "https://localhost:8080/",
     "height": 34
    },
    "colab_type": "code",
    "executionInfo": {
     "elapsed": 1366,
     "status": "ok",
     "timestamp": 1536316259787,
     "user": {
      "displayName": "Swamy Sriharsha",
      "photoUrl": "//lh4.googleusercontent.com/-9Fgow919ry4/AAAAAAAAAAI/AAAAAAAADrY/V0mtUrANlBQ/s50-c-k-no/photo.jpg",
      "userId": "101573941070641181625"
     },
     "user_tz": -330
    },
    "id": "_Yx_VGRplGFf",
    "outputId": "de9ec9ee-00c9-4aef-8372-53b65b50a94e"
   },
   "outputs": [
    {
     "data": {
      "text/plain": [
       "bs4.BeautifulSoup"
      ]
     },
     "execution_count": 75,
     "metadata": {
      "tags": []
     },
     "output_type": "execute_result"
    }
   ],
   "source": [
    "url4 = \"https://www.thebalance.com/the-u-s-dollar-3305729\" #this is the link for the above mentioned article\n",
    "\n",
    "htmldata4 = urlopen(url4) #to get the html of the page\n",
    "\n",
    "soup4 = BeautifulSoup(htmldata4, 'html.parser') #creating a beautifulSoup object\n",
    "\n",
    "type(soup4)"
   ]
  },
  {
   "cell_type": "code",
   "execution_count": 76,
   "metadata": {
    "colab": {
     "base_uri": "https://localhost:8080/",
     "height": 34
    },
    "colab_type": "code",
    "executionInfo": {
     "elapsed": 1235,
     "status": "ok",
     "timestamp": 1536316273687,
     "user": {
      "displayName": "Swamy Sriharsha",
      "photoUrl": "//lh4.googleusercontent.com/-9Fgow919ry4/AAAAAAAAAAI/AAAAAAAADrY/V0mtUrANlBQ/s50-c-k-no/photo.jpg",
      "userId": "101573941070641181625"
     },
     "user_tz": -330
    },
    "id": "iI7UdaAFldv4",
    "outputId": "f62491d5-02fd-4c8d-93eb-ab2f5d86c289"
   },
   "outputs": [
    {
     "data": {
      "text/plain": [
       "<title>US Dollar: Definition, Symbols, Denomination,Currency</title>"
      ]
     },
     "execution_count": 76,
     "metadata": {
      "tags": []
     },
     "output_type": "execute_result"
    }
   ],
   "source": [
    "soup4.title"
   ]
  },
  {
   "cell_type": "code",
   "execution_count": 84,
   "metadata": {
    "colab": {
     "base_uri": "https://localhost:8080/",
     "height": 360
    },
    "colab_type": "code",
    "executionInfo": {
     "elapsed": 1383,
     "status": "ok",
     "timestamp": 1536316558466,
     "user": {
      "displayName": "Swamy Sriharsha",
      "photoUrl": "//lh4.googleusercontent.com/-9Fgow919ry4/AAAAAAAAAAI/AAAAAAAADrY/V0mtUrANlBQ/s50-c-k-no/photo.jpg",
      "userId": "101573941070641181625"
     },
     "user_tz": -330
    },
    "id": "b6EeX_Yclirg",
    "outputId": "4b162a6b-3704-49ce-da37-880c68966968"
   },
   "outputs": [
    {
     "data": {
      "text/plain": [
       "[<p>The <a data-component=\"link\" data-ordinal=\"1\" data-source=\"inlineLink\" data-type=\"internalLink\" href=\"https://www.thebalance.com/power-of-the-u-s-dollar-3306267\">U.S. dollar is the most powerful</a> currency in the world. That's because it's backed by the country with the largest economy, the United States of America. For that reason, it's often used as a <a data-component=\"link\" data-ordinal=\"2\" data-source=\"inlineLink\" data-type=\"internalLink\" href=\"https://www.thebalance.com/world-currency-3305931\">global currency</a>.</p>,\n",
       " <p>The term U.S. dollar refers to a specific denomination and to the U.S. currency in general. It was initially traded as a coin worth its weight in silver or gold. Then it was exchanged as a paper note redeemable in gold. In the 1970s, the <a data-component=\"link\" data-ordinal=\"1\" data-source=\"inlineLink\" data-type=\"internalLink\" href=\"https://www.thebalance.com/what-is-the-gold-standard-3306137\">gold standard</a> was dropped and the <a data-component=\"link\" data-ordinal=\"2\" data-source=\"inlineLink\" data-type=\"internalLink\" href=\"https://www.thebalance.com/value-of-us-dollar-3306268\">dollar's value</a> was allowed to float. Today, although its value fluctuates, it's in strong demand.</p>,\n",
       " <p>Although the dollar is still represented by currency, its true value is represented by credit. Now more than ever, the U.S. dollar is the real symbol of faith in the <a data-component=\"link\" data-ordinal=\"1\" data-source=\"inlineLink\" data-type=\"internalLink\" href=\"https://www.thebalance.com/the-power-of-the-u-s-economy-3306226\">power of the U.S. economy</a>.</p>,\n",
       " <p>The $ symbol itself is derived from a combination of the P and S for Mexican pesos, Spanish piastres or pieces of eight. This theory is based on the study of old manuscripts. They show that the $ symbol was widely used before the United States started using the dollar in 1785. (Source: “Bureau of Engraving and Printing,” <a data-component=\"link\" data-ordinal=\"1\" data-source=\"inlineLink\" data-type=\"externalLink\" href=\"http://moneyfactory.gov/images/Currency_notes_508.pdf\">Currency Notes</a>.)</p>,\n",
       " <p>There has been a great deal of controversy surrounding the enigmatic symbols on the U.S. dollar. In fact, our founding fathers used the symbols to convey strong messages. They have gotten garbled through the years.</p>,\n",
       " <p>The dollar bill shows the Great Shield of the United States, which contains:</p>,\n",
       " <p>On the reverse of the Great Seal stands an unfinished pyramid of 13 rows, symbolizing strength and duration. The first row reads \"1776\" in Roman numerals. The banner below reads \"Novus Ordo Seclorum\" which means \"A New Order of the Ages.\" This refers to a new form of government or \"the beginning of the new American Era.\" The all-seeing eye of the Divine is bordered by the phrase \"Annuit Coeptis.\" This means \"Providence Has Favored Our Undertakings.\" (Source: “Federal Reserve Bank of Philadelphia,” <a data-component=\"link\" data-ordinal=\"1\" data-source=\"inlineLink\" data-type=\"externalLink\" href=\"http://www.philadelphiafed.org/publications/economic-education/symbols-on-american-money.pdf\" rel=\"nofollow\">Symbols on American Money</a>.)</p>,\n",
       " <p>There are 18 denominations in U.S. coins and bills.</p>,\n",
       " <p><strong>U.S. Coins</strong>. There are six dollar denominations produced in coins.</p>,\n",
       " <p>The United States no longer produces the half-cent coin, the two-cent coin, the three-cent coin, the half-dime coin or the twenty-cent coin.(Source: “U.S. Department of Treasury,” <a data-component=\"link\" data-ordinal=\"1\" data-source=\"inlineLink\" data-type=\"externalLink\" href=\"https://www.treasury.gov/resource-center/faqs/Coins/Pages/denominations.aspx\">Denominations</a>.)</p>,\n",
       " <p><strong>U.S. Dollar Bills</strong>. There are 12 denominations in bills. Seven are still being printed: $1, $2, $5, $10, $20, $50 and $100. There are five larger denominations that are no longer being printed. But these are in circulation among collectors and are still considered legal tender: $500, $1,000, $5,000, $10,000 and $100,000. (Source: “U.S. Treasury,” <a data-component=\"link\" data-ordinal=\"1\" data-source=\"inlineLink\" data-type=\"externalLink\" href=\"https://www.treasury.gov/resource-center/faqs/Coins/Pages/denominations.aspx\">Denominations</a>.) </p>,\n",
       " <p>The Federal Reserve, as the nation's <a data-component=\"link\" data-ordinal=\"1\" data-source=\"inlineLink\" data-type=\"internalLink\" href=\"https://www.thebalance.com/what-is-a-central-bank-definition-function-and-role-3305827\">central bank</a>, is responsible for making sure enough currency is in circulation. It commissions the U.S. Treasury Department's Office of Printing and Engraving to print the bills. It also authorizes its Mint Department to cast the coins. Once produced, the currency is shipped to the Federal Reserve banks where members can exchange credit for currency as needed.</p>,\n",
       " <p>The Secretary of the Treasury designs the U.S. currency. No living person's picture can appear. For the most part, only past U.S. Presidents appear. The exceptions are: </p>,\n",
       " <p>When you travel overseas or conduct any international business, you want to know how much your dollars will buy. To find out, you must convert your dollars to the local currency using an <a data-component=\"link\" data-ordinal=\"1\" data-source=\"inlineLink\" data-type=\"internalLink\" href=\"https://www.thebalance.com/what-are-exchange-rates-3306083\">exchange rate</a>. Traders in the <a data-component=\"link\" data-ordinal=\"2\" data-source=\"inlineLink\" data-type=\"internalLink\" href=\"https://www.thebalance.com/what-is-forex-trading-3306253\">foreign exchange</a> market determine the dollar's value compared to other currencies every moment. It's determined by a wide variety of factors, including the interest rate paid on the dollar, how fast the economy is growing and how large the country's <a data-component=\"link\" data-ordinal=\"3\" data-source=\"inlineLink\" data-type=\"internalLink\" href=\"https://www.thebalance.com/debt-to-gdp-ratio-how-to-calculate-and-use-it-3305832\">debt-to-GDP ratio</a> is. Here's more on the <a data-component=\"link\" data-ordinal=\"4\" data-source=\"inlineLink\" data-type=\"internalLink\" href=\"https://www.thebalance.com/what-is-the-euro-to-dollar-conversion-its-history-3306091\">euro to dollar exchange rate</a>.</p>,\n",
       " <p>In addition to exchange rates, the dollar's value is also measured by <a data-component=\"link\" data-ordinal=\"1\" data-source=\"inlineLink\" data-type=\"internalLink\" href=\"https://www.thebalance.com/what-are-treasury-bills-notes-and-bonds-3305609\">U.S. Treasury notes</a> and the amount of dollars held in reserves by foreign governments. Countries that export more to America than they import hold an excess of dollars. That's fine with them. They want to sop up the excess <a data-component=\"link\" data-ordinal=\"2\" data-source=\"inlineLink\" data-type=\"internalLink\" href=\"https://www.thebalance.com/aggregate-supply-what-it-is-how-it-works-3306216\">supply</a> of dollars and keep its value strong. That makes the value of their currency weaker in comparison, allowing their goods to seem cheaper. In addition to holding dollars, they also buy Treasury notes. It has the same effect of making the dollar stronger.</p>,\n",
       " <p class=\"html-slice\"> For more, see <a data-component=\"link\" data-ordinal=\"3\" data-source=\"inlineLink\" data-type=\"internalLink\" href=\"https://www.thebalance.com/value-of-us-dollar-3306268\">Value of the U.S. Dollar</a>.</p>,\n",
       " <p>Part of the reason for the <a data-component=\"link\" data-ordinal=\"1\" data-source=\"inlineLink\" data-type=\"internalLink\" href=\"https://www.thebalance.com/dollar-strength-why-is-it-so-strong-right-now-3305726\">dollar's strength</a> is its role as the world's reserve currency. This means that most people will accept a dollar for payment even in lieu of their own currency. Almost 50 percent of all international trade is done in dollars. Most oil contracts must be paid in dollars. How did the dollar get this fortunate status? Thank the <a data-component=\"link\" data-ordinal=\"2\" data-source=\"inlineLink\" data-type=\"internalLink\" href=\"https://www.thebalance.com/bretton-woods-system-and-1944-agreement-3306133\">Bretton Woods Agreement</a>. In 1944, the victors of World War II agreed they would peg their currency to the dollar which would be backed by a fixed amount of gold.</p>,\n",
       " <p class=\"html-slice\"> This system fell apart in 1973 when the United States let the dollar's value float. </p>,\n",
       " <p><strong>In Depth: </strong><a data-component=\"link\" data-ordinal=\"1\" data-source=\"inlineLink\" data-type=\"internalLink\" href=\"https://www.thebalance.com/value-of-money-3306108\">The Value of Money</a> | <a data-component=\"link\" data-ordinal=\"2\" data-source=\"inlineLink\" data-type=\"internalLink\" href=\"https://www.thebalance.com/the-u-s-dollar-rate-3305728\">Dollar Rate Compared to Other Currencies</a> | <a data-component=\"link\" data-ordinal=\"3\" data-source=\"inlineLink\" data-type=\"internalLink\" href=\"https://www.thebalance.com/what-is-the-value-of-a-dollar-today-3306105\">Today's Dollar Value</a> | <a data-component=\"link\" data-ordinal=\"4\" data-source=\"inlineLink\" data-type=\"internalLink\" href=\"https://www.thebalance.com/dollar-decline-or-dollar-collapse-3306090\">Dollar Decline or Dollar Collapse?</a> | <a data-component=\"link\" data-ordinal=\"5\" data-source=\"inlineLink\" data-type=\"internalLink\" href=\"https://www.thebalance.com/world-currency-3305931\">One World Currency</a></p>]"
      ]
     },
     "execution_count": 84,
     "metadata": {
      "tags": []
     },
     "output_type": "execute_result"
    }
   ],
   "source": [
    "curs = soup4.find_all(\"p\")\n",
    "\n",
    "curs"
   ]
  },
  {
   "cell_type": "code",
   "execution_count": 85,
   "metadata": {
    "colab": {
     "base_uri": "https://localhost:8080/",
     "height": 54
    },
    "colab_type": "code",
    "executionInfo": {
     "elapsed": 1404,
     "status": "ok",
     "timestamp": 1536316568194,
     "user": {
      "displayName": "Swamy Sriharsha",
      "photoUrl": "//lh4.googleusercontent.com/-9Fgow919ry4/AAAAAAAAAAI/AAAAAAAADrY/V0mtUrANlBQ/s50-c-k-no/photo.jpg",
      "userId": "101573941070641181625"
     },
     "user_tz": -330
    },
    "id": "vgz8cJnolq8X",
    "outputId": "75e5f5a9-d0fd-4231-bd6b-c45f1df73b47"
   },
   "outputs": [
    {
     "name": "stdout",
     "output_type": "stream",
     "text": [
      "[The U.S. dollar is the most powerful currency in the world. That's because it's backed by the country with the largest economy, the United States of America. For that reason, it's often used as a global currency., The term U.S. dollar refers to a specific denomination and to the U.S. currency in general. It was initially traded as a coin worth its weight in silver or gold. Then it was exchanged as a paper note redeemable in gold. In the 1970s, the gold standard was dropped and the dollar's value was allowed to float. Today, although its value fluctuates, it's in strong demand., Although the dollar is still represented by currency, its true value is represented by credit. Now more than ever, the U.S. dollar is the real symbol of faith in the power of the U.S. economy., The $ symbol itself is derived from a combination of the P and S for Mexican pesos, Spanish piastres or pieces of eight. This theory is based on the study of old manuscripts. They show that the $ symbol was widely used before the United States started using the dollar in 1785. (Source: “Bureau of Engraving and Printing,” Currency Notes.), There has been a great deal of controversy surrounding the enigmatic symbols on the U.S. dollar. In fact, our founding fathers used the symbols to convey strong messages. They have gotten garbled through the years., The dollar bill shows the Great Shield of the United States, which contains:, On the reverse of the Great Seal stands an unfinished pyramid of 13 rows, symbolizing strength and duration. The first row reads \"1776\" in Roman numerals. The banner below reads \"Novus Ordo Seclorum\" which means \"A New Order of the Ages.\" This refers to a new form of government or \"the beginning of the new American Era.\" The all-seeing eye of the Divine is bordered by the phrase \"Annuit Coeptis.\" This means \"Providence Has Favored Our Undertakings.\" (Source: “Federal Reserve Bank of Philadelphia,” Symbols on American Money.), There are 18 denominations in U.S. coins and bills., U.S. Coins. There are six dollar denominations produced in coins., The United States no longer produces the half-cent coin, the two-cent coin, the three-cent coin, the half-dime coin or the twenty-cent coin.(Source: “U.S. Department of Treasury,” Denominations.), U.S. Dollar Bills. There are 12 denominations in bills. Seven are still being printed: $1, $2, $5, $10, $20, $50 and $100. There are five larger denominations that are no longer being printed. But these are in circulation among collectors and are still considered legal tender: $500, $1,000, $5,000, $10,000 and $100,000. (Source: “U.S. Treasury,” Denominations.) , The Federal Reserve, as the nation's central bank, is responsible for making sure enough currency is in circulation. It commissions the U.S. Treasury Department's Office of Printing and Engraving to print the bills. It also authorizes its Mint Department to cast the coins. Once produced, the currency is shipped to the Federal Reserve banks where members can exchange credit for currency as needed., The Secretary of the Treasury designs the U.S. currency. No living person's picture can appear. For the most part, only past U.S. Presidents appear. The exceptions are: , When you travel overseas or conduct any international business, you want to know how much your dollars will buy. To find out, you must convert your dollars to the local currency using an exchange rate. Traders in the foreign exchange market determine the dollar's value compared to other currencies every moment. It's determined by a wide variety of factors, including the interest rate paid on the dollar, how fast the economy is growing and how large the country's debt-to-GDP ratio is. Here's more on the euro to dollar exchange rate., In addition to exchange rates, the dollar's value is also measured by U.S. Treasury notes and the amount of dollars held in reserves by foreign governments. Countries that export more to America than they import hold an excess of dollars. That's fine with them. They want to sop up the excess supply of dollars and keep its value strong. That makes the value of their currency weaker in comparison, allowing their goods to seem cheaper. In addition to holding dollars, they also buy Treasury notes. It has the same effect of making the dollar stronger.,  For more, see Value of the U.S. Dollar., Part of the reason for the dollar's strength is its role as the world's reserve currency. This means that most people will accept a dollar for payment even in lieu of their own currency. Almost 50 percent of all international trade is done in dollars. Most oil contracts must be paid in dollars. How did the dollar get this fortunate status? Thank the Bretton Woods Agreement. In 1944, the victors of World War II agreed they would peg their currency to the dollar which would be backed by a fixed amount of gold.,  This system fell apart in 1973 when the United States let the dollar's value float. , In Depth: The Value of Money | Dollar Rate Compared to Other Currencies | Today's Dollar Value | Dollar Decline or Dollar Collapse? | One World Currency]\n"
     ]
    }
   ],
   "source": [
    "strcurs = str(curs)\n",
    "\n",
    "cleantext6 = BeautifulSoup(strcurs, \"html.parser\").get_text()\n",
    "\n",
    "print(cleantext6)"
   ]
  },
  {
   "cell_type": "markdown",
   "metadata": {
    "colab_type": "text",
    "id": "54mRsch5qltE"
   },
   "source": [
    "# Later I have taken the webpage of quora consists of sample email ids"
   ]
  },
  {
   "cell_type": "code",
   "execution_count": 108,
   "metadata": {
    "colab": {
     "base_uri": "https://localhost:8080/",
     "height": 34
    },
    "colab_type": "code",
    "executionInfo": {
     "elapsed": 3690,
     "status": "ok",
     "timestamp": 1536317691858,
     "user": {
      "displayName": "Swamy Sriharsha",
      "photoUrl": "//lh4.googleusercontent.com/-9Fgow919ry4/AAAAAAAAAAI/AAAAAAAADrY/V0mtUrANlBQ/s50-c-k-no/photo.jpg",
      "userId": "101573941070641181625"
     },
     "user_tz": -330
    },
    "id": "H_JqvovrqtNr",
    "outputId": "305c31ed-89a0-40fa-d050-53b3cc975d10"
   },
   "outputs": [
    {
     "data": {
      "text/plain": [
       "bs4.BeautifulSoup"
      ]
     },
     "execution_count": 108,
     "metadata": {
      "tags": []
     },
     "output_type": "execute_result"
    }
   ],
   "source": [
    "url5 = \"https://www.quora.com/What-is-a-good-email-ID-sample\" #this is the link for the above mentioned article\n",
    "\n",
    "htmldata5 = urlopen(url5) #to get the html of the page\n",
    "\n",
    "soup5 = BeautifulSoup(htmldata5, 'html.parser') #creating a beautifulSoup object\n",
    "\n",
    "type(soup5)"
   ]
  },
  {
   "cell_type": "code",
   "execution_count": 109,
   "metadata": {
    "colab": {
     "base_uri": "https://localhost:8080/",
     "height": 34
    },
    "colab_type": "code",
    "executionInfo": {
     "elapsed": 1842,
     "status": "ok",
     "timestamp": 1536317701274,
     "user": {
      "displayName": "Swamy Sriharsha",
      "photoUrl": "//lh4.googleusercontent.com/-9Fgow919ry4/AAAAAAAAAAI/AAAAAAAADrY/V0mtUrANlBQ/s50-c-k-no/photo.jpg",
      "userId": "101573941070641181625"
     },
     "user_tz": -330
    },
    "id": "YDk0rQqbq6C7",
    "outputId": "ffa10282-dbbc-41b7-d750-e3218d68f328"
   },
   "outputs": [
    {
     "data": {
      "text/plain": [
       "<title>What is a good email ID sample? - Quora</title>"
      ]
     },
     "execution_count": 109,
     "metadata": {
      "tags": []
     },
     "output_type": "execute_result"
    }
   ],
   "source": [
    "soup5.title"
   ]
  },
  {
   "cell_type": "code",
   "execution_count": 111,
   "metadata": {
    "colab": {
     "base_uri": "https://localhost:8080/",
     "height": 207
    },
    "colab_type": "code",
    "executionInfo": {
     "elapsed": 1452,
     "status": "ok",
     "timestamp": 1536317771284,
     "user": {
      "displayName": "Swamy Sriharsha",
      "photoUrl": "//lh4.googleusercontent.com/-9Fgow919ry4/AAAAAAAAAAI/AAAAAAAADrY/V0mtUrANlBQ/s50-c-k-no/photo.jpg",
      "userId": "101573941070641181625"
     },
     "user_tz": -330
    },
    "id": "m58eFWsYq8VD",
    "outputId": "7c93b5f1-23bd-448e-96fb-526614eef00e"
   },
   "outputs": [
    {
     "data": {
      "text/plain": [
       "[<a href=\"#\" id=\"__w2_NjJonhz_resume\">Save your draft</a>,\n",
       " <a href=\"#\" id=\"__w2_KMHv0gL_hide\">Hide this message</a>,\n",
       " <a class=\"modal_fixed_close hidden\" id=\"__w2_modal_close_\"></a>,\n",
       " <a href=\"/\"><span>Quora</span></a>,\n",
       " <a class=\"AskQuestionButton LoggedOutAskQuestionButton\" href=\"#\" id=\"__w2_Qrb0AXO_button\" role=\"button\"><span class=\"button_text\" id=\"__w2_Qrb0AXO_text\">Ask New Question</span></a>,\n",
       " <a action_mousedown=\"TopicLinkClickthrough\" class=\"HoverMenu TopicNameLink topic_name\" href=\"/topic/Email-Service-Providers\" id=\"__w2_UdHbyAL_link\"><span class=\"name_text\"><span id=\"bABcLo\"><span class=\"TopicNameSpan TopicName\" id=\"__w2_IM0ULFH_card\">Email Service Providers</span></span></span></a>,\n",
       " <a action_mousedown=\"TopicLinkClickthrough\" class=\"HoverMenu TopicNameLink topic_name\" href=\"/topic/Email-Addresses\" id=\"__w2_L1n7xhn_link\"><span class=\"name_text\"><span id=\"lspTds\"><span class=\"TopicNameSpan TopicName\" id=\"__w2_SE1e9Yg_card\">Email Addresses</span></span></span></a>,\n",
       " <a action_mousedown=\"TopicLinkClickthrough\" class=\"HoverMenu TopicNameLink topic_name\" href=\"/topic/Email\" id=\"__w2_pqTl8Mo_link\"><span class=\"name_text\"><span id=\"jDPiXK\"><span class=\"TopicNameSpan TopicName\" id=\"__w2_vPubtHb_card\">Email</span></span></span></a>,\n",
       " <a class=\"submit_button\" id=\"__w2_MmF0BOR_question_update\">Update</a>,\n",
       " <a class=\"cancel_button\" id=\"__w2_MmF0BOR_question_cancel\">Cancel</a>]"
      ]
     },
     "execution_count": 111,
     "metadata": {
      "tags": []
     },
     "output_type": "execute_result"
    }
   ],
   "source": [
    "mailids = soup5.find_all('a')\n",
    "\n",
    "mailids[:10]"
   ]
  },
  {
   "cell_type": "code",
   "execution_count": 112,
   "metadata": {
    "colab": {
     "base_uri": "https://localhost:8080/",
     "height": 54
    },
    "colab_type": "code",
    "executionInfo": {
     "elapsed": 1390,
     "status": "ok",
     "timestamp": 1536317825638,
     "user": {
      "displayName": "Swamy Sriharsha",
      "photoUrl": "//lh4.googleusercontent.com/-9Fgow919ry4/AAAAAAAAAAI/AAAAAAAADrY/V0mtUrANlBQ/s50-c-k-no/photo.jpg",
      "userId": "101573941070641181625"
     },
     "user_tz": -330
    },
    "id": "U5mFObzLrNmD",
    "outputId": "81459d48-1e09-4830-a763-e2af97df67a3"
   },
   "outputs": [
    {
     "name": "stdout",
     "output_type": "stream",
     "text": [
      "[Save your draft, Hide this message, , Quora, Ask New Question, Email Service Providers, Email Addresses, Email, Update, Cancel, Verify your email list fast and remove bounces and spam traps., Abuse and spam trap data detection, bounce detection & much more., Start Now at zerobounce.net, Undo, , , Ziaur Rahman, Answered Apr 16, 2018, ziaur47779@Hotmail.com, Zrahman@YourBusiness.com, Zrahman@Yahoo.com, Zrahman@Gmail.com, JDoe@Gmail.com, JDoe4855@Gmail.com, Digital Cable TV, Internet and Home Phone | XFINITY, Pay Bill, See Offers with My Verizon Fios, JohnDoe@YourDomain.com, John@YourDomain.com, JohnD@YourDomain.com, JDoe@YourDomain.com, JohnDoe@YourDomain.com, Info@YourDomain.com, JohnDoe@YourDomain.com, JohnD@YourDomain.com, Newsletter@YourDomain.com, Info@YourDomain.com, Sales@YourDomain.com, Press@YourDomain.com, Info@YourDomain.com, Info@moonyguitars.com, Jeremy@moonyguitars.com, View Upvoters,  promoted  by ActiveCampaign, How to go beyond email marketing?, Thousands of businesses are choosing intelligence driven messaging & marketing automation., Read More at activecampaign.com, Undo, More Answers Below, What's Sundar Pichai's email ID?, Gmail Account Email ID issue, Can you have two email accounts with different email IDs?, Why is Quora not showing my Email Id, when I start typing Email Id during Share option?, What is the purpose of an email ID listing?, Ask New Question, , , , Jerry Holway, Answered Jul 10, 2018, unused (comparatively), Jerry.Holway@outlook.com, Easy To Remember, View Upvoters,  promoted  by Yandex.Metrica, Free web analytics., Try a free web analytics system that doesn't compromise on feature richness or a user-friendly interface., Free Trial at metrica.yandex.com, Undo, , , Paul Sloan, Answered Oct 4, 2017, gmail.com, first.last@yourdmain.com, , , Stay In Touch, Answered Jan 17, 2018, View Upvoters, , , Lei Lani Lucero, Answered Nov 6, 2017, Balamurugan Pakkirisamy, What is the email id of HCL?, How do I find an email ID, and how do I remove my email ID in another device?, What is meant by an email ID?, I have created one Zoho account with an incorrect email ID. How can I correct the existing email ID?, How is an email ID written?, What is the email ID of the ultimate nutrition brand?, Is an email ID important?, What's the email ID of LIC?, How can I change an email ID because I have entered the wrong email ID during the registration in IRCTC?, What is the email ID of DGCA?, How should keep my email id?, What can I do with other's email Id? Can I get any information of a person with an email ID?, Can I block my email id?, Can you change the email ID of a functional mailbox?, What is a good resignation email sample?, Ask New Question, Ask, What's Sundar Pichai's email ID?, Gmail Account Email ID issue, Can you have two email accounts with different email IDs?, Why is Quora not showing my Email Id, when I start typing Email Id during Share option?, What is the purpose of an email ID listing?, What is the email id of HCL?, How do I find an email ID, and how do I remove my email ID in another device?, What is meant by an email ID?, I have created one Zoho account with an incorrect email ID. How can I correct the existing email ID?, How is an email ID written?, Ask New Question, About, Careers, Privacy, Terms, Contact]\n"
     ]
    }
   ],
   "source": [
    "strmailids = str(mailids)\n",
    "\n",
    "cleantext7 = BeautifulSoup(strmailids, \"html.parser\").get_text()\n",
    "\n",
    "print(cleantext7)"
   ]
  }
 ],
 "metadata": {
  "accelerator": "GPU",
  "colab": {
   "collapsed_sections": [],
   "name": "NLC Assignmnet-2.ipynb",
   "provenance": [],
   "version": "0.3.2"
  },
  "kernelspec": {
   "display_name": "Python 3",
   "language": "python",
   "name": "python3"
  },
  "language_info": {
   "codemirror_mode": {
    "name": "ipython",
    "version": 3
   },
   "file_extension": ".py",
   "mimetype": "text/x-python",
   "name": "python",
   "nbconvert_exporter": "python",
   "pygments_lexer": "ipython3",
   "version": "3.6.5"
  }
 },
 "nbformat": 4,
 "nbformat_minor": 1
}
