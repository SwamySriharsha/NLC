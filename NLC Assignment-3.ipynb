{
 "cells": [
  {
   "cell_type": "code",
   "execution_count": 71,
   "metadata": {},
   "outputs": [
    {
     "name": "stdout",
     "output_type": "stream",
     "text": [
      "8\n",
      "[]\n",
      "['6.20am', '8.30am', '10.30pm', '5.45am', '6.30pm', '7.30pm', '11.30pm']\n",
      "['6.30am', '7.30pm']\n",
      "['11.30pm']\n",
      "[]\n",
      "[]\n",
      "[]\n",
      "[]\n"
     ]
    }
   ],
   "source": [
    "import PyPDF2\n",
    "\n",
    "scrapdata = open('webscrapdata.pdf', 'rb')\n",
    "\n",
    "read_pdf = PyPDF2.PdfFileReader(scrapdata)\n",
    "\n",
    "nop = read_pdf.getNumPages()\n",
    "\n",
    "print(nop)\n",
    "\n",
    "for i in range(nop):\n",
    "    page = read_pdf.getPage(i)\n",
    "    page_content = page.extractText()\n",
    "    print(re.findall('\\\\b\\d{1,2}\\.\\d{1,2} *(?:am|pm)',page_content)) #H.MM PM\n",
    " \n",
    "    "
   ]
  },
  {
   "cell_type": "code",
   "execution_count": 58,
   "metadata": {},
   "outputs": [
    {
     "name": "stdout",
     "output_type": "stream",
     "text": [
      "[]\n",
      "[]\n",
      "[]\n",
      "[]\n",
      "['http://www.csa.iisc.ac', 'http://www.iisc.ac.in', 'http://www.csa.iisc.ac', 'http://www.csa.iisc.ac', 'http://www.csa.iisc.ac', 'http://www.csa.iisc.ac', 'http://www.csa.iisc.ac', 'http://www.csa.iisc.ac', 'http://www.csa.iisc.ac']\n",
      "[]\n",
      "[]\n",
      "[]\n"
     ]
    }
   ],
   "source": [
    "for i in range(nop):\n",
    "    page = read_pdf.getPage(i)\n",
    "    page_content = page.extractText()\n",
    "    print(re.findall('https?\\://www\\.\\w+\\.\\w+\\.?\\w*',page_content))\n",
    " \n",
    "    "
   ]
  },
  {
   "cell_type": "code",
   "execution_count": 68,
   "metadata": {},
   "outputs": [
    {
     "name": "stdout",
     "output_type": "stream",
     "text": [
      "[]\n",
      "[]\n",
      "[]\n",
      "['Jayant R. Haritsa', 'Shirish K. Shevade', 'Jayant R. Haritsa', 'Shirish K. Shev']\n",
      "['Jayant R. Haritsa', 'Shirish K. Shevade']\n",
      "[]\n",
      "[]\n",
      "[]\n"
     ]
    }
   ],
   "source": [
    "for i in range(nop):\n",
    "    page = read_pdf.getPage(i)\n",
    "    page_content = page.extractText()\n",
    "    print(re.findall('\\\\b[a-zA-Z]{3,} [a-zA-Z]{1}\\. [a-zA-Z]{4,}' ,page_content)) #Subash C. Bose\n",
    " \n",
    "    "
   ]
  },
  {
   "cell_type": "code",
   "execution_count": 84,
   "metadata": {},
   "outputs": [
    {
     "name": "stdout",
     "output_type": "stream",
     "text": [
      "[]\n",
      "[]\n",
      "[]\n",
      "[]\n",
      "['+91 9876543210']\n",
      "[]\n",
      "[]\n",
      "[]\n"
     ]
    }
   ],
   "source": [
    "for i in range(nop):\n",
    "    page = read_pdf.getPage(i)\n",
    "    page_content = page.extractText()\n",
    "    print(re.findall('\\(?\\+91\\)? *\\d{10}', page_content))"
   ]
  },
  {
   "cell_type": "code",
   "execution_count": 86,
   "metadata": {},
   "outputs": [
    {
     "name": "stdout",
     "output_type": "stream",
     "text": [
      "[]\n",
      "[]\n",
      "[]\n",
      "[]\n",
      "[]\n",
      "[]\n",
      "['$1', '$2', '$5', '$10', '$20', '$50', '$100.', '$500', '$1', '$5', '$10']\n",
      "[]\n"
     ]
    }
   ],
   "source": [
    "for i in range(nop):\n",
    "    page = read_pdf.getPage(i)\n",
    "    page_content = page.extractText()\n",
    "    print(re.findall('\\$ ?\\d+\\.?\\d*?', page_content))"
   ]
  },
  {
   "cell_type": "code",
   "execution_count": 95,
   "metadata": {},
   "outputs": [
    {
     "name": "stdout",
     "output_type": "stream",
     "text": [
      "[]\n",
      "[]\n",
      "[]\n",
      "[]\n",
      "[]\n",
      "[]\n",
      "['Apr 16, 2018']\n",
      "['Oct 4, 2017', 'Jan 17, 2018', 'Nov 6, 2017']\n"
     ]
    }
   ],
   "source": [
    "for i in range(nop):\n",
    "    page = read_pdf.getPage(i)\n",
    "    page_content = page.extractText()\n",
    "    print(re.findall('(?:Jan|Feb|Mar|Apr|May|June|July|Aug|Sept|Oct|Nov|Dec) \\d{1,2} *\\, *\\d{4}\\\\b', page_content))"
   ]
  },
  {
   "cell_type": "code",
   "execution_count": 96,
   "metadata": {},
   "outputs": [
    {
     "name": "stdout",
     "output_type": "stream",
     "text": [
      "[]\n",
      "[]\n",
      "[]\n",
      "[]\n",
      "[]\n",
      "[]\n",
      "['ziaur47779@Hotmail.com', 'Zrahman@YourBusiness.com']\n",
      "['Zrahman@Yahoo.com', 'Zrahman@Gmail.com', 'JDoe@Gmail.com', 'JDoe4855@Gmail.com', 'JohnDoe@YourDomain.com', 'John@YourDomain.com', 'JohnD@YourDomain.com', 'JDoe@YourDomain.com', 'JohnDoe@YourDomain.com', 'Info@YourDomain.com', 'JohnDoe@YourDomain.com', 'JohnD@YourDomain.com', 'ter@YourDomain.com', 'Info@YourDomain.com', 'Sales@YourDomain.com', 'Press@YourDomain.com', 'Info@YourDomain.com', 'Info@moonyguitars.com', 'Jeremy@moonyguitars.com', 'Holway@outlook.com', 'last@yourdmain.com']\n"
     ]
    }
   ],
   "source": [
    "for i in range(nop):\n",
    "    page = read_pdf.getPage(i)\n",
    "    page_content = page.extractText()\n",
    "    print(re.findall('\\w+@\\w+\\.\\w+', page_content))"
   ]
  }
 ],
 "metadata": {
  "colab": {
   "default_view": {},
   "name": "Untitled",
   "provenance": [],
   "version": "0.3.2",
   "views": {}
  },
  "kernelspec": {
   "display_name": "Python 3",
   "language": "python",
   "name": "python3"
  },
  "language_info": {
   "codemirror_mode": {
    "name": "ipython",
    "version": 3
   },
   "file_extension": ".py",
   "mimetype": "text/x-python",
   "name": "python",
   "nbconvert_exporter": "python",
   "pygments_lexer": "ipython3",
   "version": "3.6.5"
  }
 },
 "nbformat": 4,
 "nbformat_minor": 1
}
