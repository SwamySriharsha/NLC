{
 "cells": [
  {
   "cell_type": "code",
   "execution_count": 1,
   "metadata": {},
   "outputs": [],
   "source": [
    "import re\n",
    "from datetime import datetime"
   ]
  },
  {
   "cell_type": "code",
   "execution_count": 39,
   "metadata": {},
   "outputs": [
    {
     "name": "stdout",
     "output_type": "stream",
     "text": [
      "Invalid date is 2018-13-04\n",
      "Invalid date is 32 Nov,2018\n",
      "Invalid date is 04-14-1994\n"
     ]
    },
    {
     "data": {
      "text/plain": [
       "'Possible dates for the first assessment exams are Aug 01, 2018, Aug 03, 2018, Aug 07, 2018 , Aug 01, 2018 , Possible dates for the second assessment exams are October 22 , 2018 ,  October 24, 2018 ,  October 29,  2018 ,Nov 01, 2018, Nov 01, 2018 Nov 01, 2018 Possible dates for semester exams are Nov 03, 2018, Nov 07, 2018, Nov 09, 2018 , Nov 09, 2018'"
      ]
     },
     "execution_count": 39,
     "metadata": {},
     "output_type": "execute_result"
    }
   ],
   "source": [
    "testdate = '''Possible dates for the first assessment exams are 1-08-2018, 03/8/2018, 07.08.18 , 04-14-1994 , Possible dates for the second assessment exams are October 22 , 2018 ,  October 24, 2018 ,  October 29,  2018 ,1 Nov,2018, 03 Nov,2018 32 Nov,2018 Possible dates for semester exams are 2018/11/03, 2018.11.07, 2018-11-9 , 2018-13-04'''\n",
    "\n",
    "f1 = re.findall('\\\\b\\d{1,2}/\\d{1,2}/\\d{2,4}\\\\b', testdate) #dd/mm/yy or #dd/mm/yyyy\n",
    "for i in f1:\n",
    "    objDate = datetime.strptime(i, '%d/%m/%Y')\n",
    "    fstr = datetime.strftime(objDate,'%b %d, %Y')\n",
    "    testdate = re.sub('\\\\b\\d{1,2}/\\d{1,2}/\\d{2,4}\\\\b',fstr,testdate)\n",
    "\n",
    "f2 = re.findall('\\\\b\\d{1,2}\\.\\d{1,2}\\.\\d{2,4}\\\\b', testdate) #dd.mm.yyyy or #dd.mm.yy\n",
    "for i in f2:\n",
    "    objDate = datetime.strptime(i, '%d.%m.%y')\n",
    "    fstr = datetime.strftime(objDate,'%b %d, %Y')\n",
    "    testdate = re.sub('\\\\b\\d{1,2}\\.\\d{1,2}\\.\\d{2,4}\\\\b',fstr,testdate)\n",
    "\n",
    "f3 = re.findall('\\\\b\\d{4}-\\d{1,2}-\\d{1,2}\\\\b', testdate) #yyyy-mm-dd\n",
    "for i in f3:\n",
    "    try:\n",
    "        objDate = datetime.strptime(i, '%Y-%m-%d')\n",
    "        fstr = datetime.strftime(objDate,'%b %d, %Y')\n",
    "        testdate = re.sub('\\\\b\\d{4}-\\d{1,2}-\\d{1,2}\\\\b',fstr,testdate)\n",
    "    except:\n",
    "        print(\"Invalid date is {0}\".format(i))\n",
    "\n",
    "f4 = re.findall('\\d{1,2} (?:Jan|Feb|Mar|Apr|May|June|July|Aug|Sept|Oct|Nov|Dec) *\\,\\d{4}',testdate) #dd Mon,yyyy  \n",
    "for i in f4:\n",
    "    try:\n",
    "        objDate = datetime.strptime(i, '%d %b,%Y')\n",
    "        fstr = datetime.strftime(objDate,'%b %d, %Y')\n",
    "        testdate = re.sub('\\d{1,2} (?:Jan|Feb|Mar|Apr|May|June|July|Aug|Sept|Oct|Nov|Dec) *\\,\\d{4}',fstr,testdate)\n",
    "    except:\n",
    "        print(\"Invalid date is {0}\".format(i))\n",
    "        \n",
    "f5 = re.findall('\\\\b\\d{1,2}-\\d{1,2}-\\d{4}\\\\b', testdate) #dd-mm-yyyy \n",
    "for i in f5:\n",
    "    try:\n",
    "        objDate = datetime.strptime(i, '%d-%m-%Y')\n",
    "        fstr = datetime.strftime(objDate,'%b %d, %Y')\n",
    "        testdate = re.sub('\\\\b\\d{1,2}-\\d{1,2}-\\d{4}\\\\b',fstr,testdate)\n",
    "    except:\n",
    "        print(\"Invalid date is {0}\".format(i))\n",
    "        \n",
    "f6 = re.findall('\\\\b\\d{4}\\/\\d{1,2}\\/\\d{1,2}\\\\b', testdate) #yyyy/mm/dd\n",
    "for i in f6:\n",
    "    objDate = datetime.strptime(i, '%Y/%m/%d')\n",
    "    fstr = datetime.strftime(objDate,'%b %d, %Y')\n",
    "    testdate = re.sub('\\\\b\\d{4}\\/\\d{1,2}\\/\\d{1,2}\\\\b',fstr,testdate) \n",
    "    \n",
    "f7 = re.findall('\\\\b\\d{4}\\.\\d{1,2}\\.\\d{1,2}\\\\b', testdate) #yyyy/mm/dd\n",
    "for i in f7:\n",
    "    objDate = datetime.strptime(i, '%Y.%m.%d')\n",
    "    fstr = datetime.strftime(objDate,'%b %d, %Y')\n",
    "    testdate = re.sub('\\\\b\\d{4}\\.\\d{1,2}\\.\\d{1,2}\\\\b',fstr,testdate)\n",
    "    \n",
    "testdate    #Every date is normalized into the format Mm dd, YYYY "
   ]
  },
  {
   "cell_type": "code",
   "execution_count": 62,
   "metadata": {},
   "outputs": [
    {
     "data": {
      "text/plain": [
       "'Possible starting  times are 05:15  or 05:15  or 05:15 or 05:15 05:15 or 05:15  or 05:15 or 05:15 13:4 or 13:04:22 or 13:24:22.04'"
      ]
     },
     "execution_count": 62,
     "metadata": {},
     "output_type": "execute_result"
    }
   ],
   "source": [
    "testtime = '''Possible starting  times are 5.15AM  or 05:15 AM  or 5.15am or 5.15 am 5.15 PM or 5:15PM  or 5.15 PM or 5.15pm 13:4 or 13:04:22 or 13:24:22.04'''\n",
    "\n",
    "tf1 = re.findall('\\\\b\\d{1,2}\\.\\d{1,2} (?:PM|am|AM|pm)',testtime) #H.MM \n",
    "for i in tf1:\n",
    "    try:\n",
    "        objDate = datetime.strptime(i, '%H.%M %p')\n",
    "        fstr = datetime.strftime(objDate,'%R')\n",
    "        testtime = re.sub('\\\\b\\d{1,2}\\.\\d{1,2} (?:PM|am|AM|pm)',fstr,testtime)\n",
    "    except:\n",
    "        print(\"Invalid time is {0}\".format(i))       \n",
    "\n",
    "\n",
    "tf2 = re.findall('\\\\b\\d{1,2}\\:\\d{1,2}(?:am|PM|pm|AM)',testtime) #H:MM\n",
    "for i in tf2:\n",
    "    try:\n",
    "        objDate = datetime.strptime(i, '%H:%M%p')\n",
    "        fstr = datetime.strftime(objDate,'%R')\n",
    "        testtime = re.sub('\\\\b\\d{1,2}\\:\\d{1,2}(?:am|PM|pm|AM)',fstr,testtime)\n",
    "    except:\n",
    "        print(\"Invalid time is {0}\".format(i))\n",
    "        \n",
    "tf3 = re.findall('\\\\b\\d{1,2}\\.\\d{1,2}(?:PM|am|AM|pm)',testtime) #H.MM \n",
    "for i in tf3:\n",
    "    try:\n",
    "        objDate = datetime.strptime(i, '%H.%M%p')\n",
    "        fstr = datetime.strftime(objDate,'%R')\n",
    "        testtime = re.sub('\\\\b\\d{1,2}\\.\\d{1,2}(?:PM|am|AM|pm)',fstr,testtime)\n",
    "    except:\n",
    "        print(\"Invalid time is {0}\".format(i))       \n",
    "\n",
    "\n",
    "tf4 = re.findall('\\\\b\\d{1,2}\\:\\d{1,2} (?:am|PM|pm|AM)',testtime) #H:MM\n",
    "for i in tf4:\n",
    "    try:\n",
    "        objDate = datetime.strptime(i, '%H:%M %p')\n",
    "        fstr = datetime.strftime(objDate,'%R')\n",
    "        testtime = re.sub('\\\\b\\d{1,2}\\:\\d{1,2} (?:am|PM|pm|AM)',fstr,testtime)\n",
    "    except:\n",
    "        print(\"Invalid time is {0}\".format(i))  \n",
    "        \n",
    "testtime   #Every time is normalized into format of 24hrs time without AM or PM     \n"
   ]
  },
  {
   "cell_type": "code",
   "execution_count": 107,
   "metadata": {},
   "outputs": [
    {
     "name": "stdout",
     "output_type": "stream",
     "text": [
      "[' +917382293451', ' +91 7382293451', '(+91)738229345', '( +91 )7382293451', '(+91) 7382293451']\n",
      "Invalid mobile num (+91)738229345\n"
     ]
    },
    {
     "data": {
      "text/plain": [
       "'Possible  mobile number formats are 7382293451  91738293451 or 91 7382293451+917382293451 or+917382293451 or +  91 7382293451+917382293451 or+917382293451 or+917382293451'"
      ]
     },
     "execution_count": 107,
     "metadata": {},
     "output_type": "execute_result"
    }
   ],
   "source": [
    "\n",
    "def cpn(mobile,mfre):\n",
    "    global testmob\n",
    "    valid_prefixes = '[+91|91|(+91)|( +91 )]'\n",
    "    result = re.match('^'+valid_prefixes+'*([0-9]{10})$', mobile)\n",
    "    if result:\n",
    "        nn = '+91' + result.group(1)\n",
    "        testmob = re.sub(mfre,nn,testmob)\n",
    "    else:\n",
    "        print('Invalid mobile num {0}'.format(mobile))\n",
    "        \n",
    "        \n",
    "testmob = '''Possible  mobile number formats are 7382293451  91738293451 or 91 7382293451 +917382293451 or +91 7382293451 or +  91 7382293451 (+91)738229345 or ( +91 )7382293451 or (+91) 7382293451'''\n",
    "        \n",
    "    \n",
    "mfre1 = '\\(? ?\\+ ?91 ?\\)? ?\\d{9,10}'\n",
    "mf1 = re.findall(mfre1,testmob)\n",
    "print(mf1)\n",
    "for i in mf1:\n",
    "    cpn(i,mfre1)\n",
    "testmob    "
   ]
  },
  {
   "cell_type": "code",
   "execution_count": 122,
   "metadata": {},
   "outputs": [
    {
     "name": "stdout",
     "output_type": "stream",
     "text": [
      "[' 04322469', ' 043 22469', '(043)22469', '( 043 )22469', '(043) 22469']\n"
     ]
    },
    {
     "data": {
      "text/plain": [
       "'Landline number formats are 22469 or04322469 or04322469 or04322469 or04322469 or04322469'"
      ]
     },
     "execution_count": 122,
     "metadata": {},
     "output_type": "execute_result"
    }
   ],
   "source": [
    "\n",
    "def cln(landline,lfre):\n",
    "    global testll\n",
    "    valid_prefixes = '[043|(043)|( 043 )]'\n",
    "    result = re.match('^'+valid_prefixes+'*(\\d{5})$', landline)\n",
    "    if result:\n",
    "        nn = '043' + result.group(1)\n",
    "        testll = re.sub(lfre,nn,testll)\n",
    "    else:\n",
    "        print('Invalid landline num {0}'.format(landline))\n",
    "        \n",
    "        \n",
    "testll = '''Landline number formats are 22469 or 04322469 or 043 22469 or (043)22469 or ( 043 )22469 or (043) 22469'''\n",
    "     \n",
    "    \n",
    "lfre1 = '\\(? ?043 ?\\)? ?\\d{5}'\n",
    "lf1 = re.findall(lfre1,testll)\n",
    "print(lf1)\n",
    "for i in lf1:\n",
    "    cln(i,lfre1)\n",
    "testll   "
   ]
  },
  {
   "cell_type": "code",
   "execution_count": 130,
   "metadata": {},
   "outputs": [
    {
     "name": "stdout",
     "output_type": "stream",
     "text": [
      "['$500.12', '$ 1.24', '$1,000.40', '$10,000.14']\n"
     ]
    },
    {
     "data": {
      "text/plain": [
       "'500.12dollars , 500.12dollars, 500.1 dollars 500.12dollars , 1.25dollars,  500.12dollars , 500.12dollars '"
      ]
     },
     "execution_count": 130,
     "metadata": {},
     "output_type": "execute_result"
    }
   ],
   "source": [
    "def curmod(dollar,curre):\n",
    "    global testcur\n",
    "    valid_prefixes = '[$]'\n",
    "    result = re.match('^'+valid_prefixes+'*( ?\\d+,?\\d*\\.?\\d*)$', dollar)\n",
    "    if result:\n",
    "        nn = result.group(1) + 'dollars'\n",
    "        testcur = re.sub(curre,nn,testcur)\n",
    "    else:\n",
    "        print('Invalid dollar {0}'.format(dollar))\n",
    "\n",
    "\n",
    "testcur = '''$500.12 , 500.12dollars, 500.1 dollars $ 1.24 , 1.25dollars,  $1,000.40 , $10,000.14 '''\n",
    "\n",
    "curre1 = '\\$ ?\\d+,?\\d*\\.?\\d*'\n",
    "curf1 = re.findall(curre1,testcur)\n",
    "print(curf1)\n",
    "for i in curf1:\n",
    "    curmod(i,curre1)\n",
    "testcur"
   ]
  },
  {
   "cell_type": "code",
   "execution_count": 157,
   "metadata": {},
   "outputs": [
    {
     "name": "stdout",
     "output_type": "stream",
     "text": [
      "abcd.yz @ iiith . ac[dot] in can be written like abcd.yz @ iiith [DOT] ac [DOT] in or like abcd.yz(AT) iiith . ac . in , abcd.yz(at ) iiith ( dot) ac. In, abcd[at]nitt.edu or abcd AT nitt DOT edu etc\n"
     ]
    }
   ],
   "source": [
    "testmails = '''abcd.yz [at] iiith [dot] ac[dot]\n",
    "in  can be written like  abcd.yz [AT] iiith [DOT] ac [DOT] in  or\n",
    "like  abcd.yz(AT) iiith (DOT) ac (DOT) in , abcd.yz(at ) iiith ( dot) ac. In,\n",
    "abcd[at]nitt.edu  or  abcd AT nitt DOT edu  etc'''\n",
    "\n",
    "mylist = testmails.split()\n",
    "#print(mylist)\n",
    "for i in range(len(mylist)):\n",
    "    if mylist[i]=='[at]' or mylist[i]=='[AT]' or mylist[i]=='(at )' or mylist[i]=='(AT)':\n",
    "        mylist[i] = '@'\n",
    "    elif mylist[i]=='[dot]' or mylist[i]=='[dot]' or mylist[i]=='( dot)' or mylist[i]=='(DOT)':\n",
    "        mylist[i] = '.'     \n",
    "print(' '.join(mylist))        "
   ]
  },
  {
   "cell_type": "code",
   "execution_count": 164,
   "metadata": {},
   "outputs": [
    {
     "name": "stdout",
     "output_type": "stream",
     "text": [
      "['https://www.google.co.in', 'http://www.abcd.me']\n"
     ]
    },
    {
     "data": {
      "text/plain": [
       "'www.google.co.in www.cricbuzz.in www.google.co.in This course is very good E:\\nlp\\\\deep learning\\\\ Andrew ng\\\\ course1\\\\introduction.mp4 C:\\\\desktop\\nlptutorial1.1.pdf'"
      ]
     },
     "execution_count": 164,
     "metadata": {},
     "output_type": "execute_result"
    }
   ],
   "source": [
    "def urlmod(url,urlre):\n",
    "    global testurls\n",
    "    valid_prefixes = '[https://|http://]'\n",
    "    result = re.match('^'+valid_prefixes+'*(www\\.\\w+\\.\\w+\\.?\\w*)$', url)\n",
    "    if result:\n",
    "        nn = result.group(1)\n",
    "        testurls = re.sub(urlre,nn,testurls)\n",
    "    else:\n",
    "        print('Invalid url {0}'.format(url))\n",
    "\n",
    "testurls = '''https://www.google.co.in www.cricbuzz.in http://www.abcd.me This course is very good E:\\nlp\\deep learning\\ Andrew ng\\ course1\\introduction.mp4 C:\\desktop\\nlptutorial1.1.pdf'''\n",
    "\n",
    "urlre = 'https?\\://www\\.\\w+\\.\\w+\\.?\\w*'\n",
    "urlf1 = re.findall(urlre,testurls)\n",
    "print(urlf1)\n",
    "for i in urlf1:\n",
    "    urlmod(i,urlre)\n",
    "testurls    "
   ]
  }
 ],
 "metadata": {
  "kernelspec": {
   "display_name": "Python 3",
   "language": "python",
   "name": "python3"
  },
  "language_info": {
   "codemirror_mode": {
    "name": "ipython",
    "version": 3
   },
   "file_extension": ".py",
   "mimetype": "text/x-python",
   "name": "python",
   "nbconvert_exporter": "python",
   "pygments_lexer": "ipython3",
   "version": "3.6.5"
  }
 },
 "nbformat": 4,
 "nbformat_minor": 2
}
